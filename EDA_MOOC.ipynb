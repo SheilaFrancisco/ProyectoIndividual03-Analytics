{
 "cells": [
  {
   "attachments": {},
   "cell_type": "markdown",
   "metadata": {},
   "source": [
    "# **EDA**"
   ]
  },
  {
   "cell_type": "code",
   "execution_count": 95,
   "metadata": {},
   "outputs": [],
   "source": [
    "#Se importan librerías necesarias\n",
    "\n",
    "import pandas as pd\n",
    "import seaborn as sns\n",
    "from langdetect import detect"
   ]
  },
  {
   "attachments": {},
   "cell_type": "markdown",
   "metadata": {},
   "source": [
    "## - Coursera"
   ]
  },
  {
   "attachments": {},
   "cell_type": "markdown",
   "metadata": {},
   "source": [
    "Se importan inicialmente los dos archivos con información de la plataforma Coursera para analizar su contenido y evaluar la posibilidad de unificarlos."
   ]
  },
  {
   "cell_type": "code",
   "execution_count": 99,
   "metadata": {},
   "outputs": [
    {
     "data": {
      "text/html": [
       "<div>\n",
       "<style scoped>\n",
       "    .dataframe tbody tr th:only-of-type {\n",
       "        vertical-align: middle;\n",
       "    }\n",
       "\n",
       "    .dataframe tbody tr th {\n",
       "        vertical-align: top;\n",
       "    }\n",
       "\n",
       "    .dataframe thead th {\n",
       "        text-align: right;\n",
       "    }\n",
       "</style>\n",
       "<table border=\"1\" class=\"dataframe\">\n",
       "  <thead>\n",
       "    <tr style=\"text-align: right;\">\n",
       "      <th></th>\n",
       "      <th>name</th>\n",
       "      <th>institution</th>\n",
       "      <th>course_url</th>\n",
       "      <th>course_id</th>\n",
       "    </tr>\n",
       "  </thead>\n",
       "  <tbody>\n",
       "    <tr>\n",
       "      <th>0</th>\n",
       "      <td>Machine Learning</td>\n",
       "      <td>Stanford University</td>\n",
       "      <td>https://www.coursera.org/learn/machine-learning</td>\n",
       "      <td>machine-learning</td>\n",
       "    </tr>\n",
       "    <tr>\n",
       "      <th>1</th>\n",
       "      <td>Indigenous Canada</td>\n",
       "      <td>University of Alberta</td>\n",
       "      <td>https://www.coursera.org/learn/indigenous-canada</td>\n",
       "      <td>indigenous-canada</td>\n",
       "    </tr>\n",
       "    <tr>\n",
       "      <th>2</th>\n",
       "      <td>The Science of Well-Being</td>\n",
       "      <td>Yale University</td>\n",
       "      <td>https://www.coursera.org/learn/the-science-of-...</td>\n",
       "      <td>the-science-of-well-being</td>\n",
       "    </tr>\n",
       "    <tr>\n",
       "      <th>3</th>\n",
       "      <td>Technical Support Fundamentals</td>\n",
       "      <td>Google</td>\n",
       "      <td>https://www.coursera.org/learn/technical-suppo...</td>\n",
       "      <td>technical-support-fundamentals</td>\n",
       "    </tr>\n",
       "    <tr>\n",
       "      <th>4</th>\n",
       "      <td>Become a CBRS Certified Professional Installer...</td>\n",
       "      <td>Google - Spectrum Sharing</td>\n",
       "      <td>https://www.coursera.org/learn/google-cbrs-cpi...</td>\n",
       "      <td>google-cbrs-cpi-training</td>\n",
       "    </tr>\n",
       "  </tbody>\n",
       "</table>\n",
       "</div>"
      ],
      "text/plain": [
       "                                                name  \\\n",
       "0                                   Machine Learning   \n",
       "1                                  Indigenous Canada   \n",
       "2                          The Science of Well-Being   \n",
       "3                     Technical Support Fundamentals   \n",
       "4  Become a CBRS Certified Professional Installer...   \n",
       "\n",
       "                 institution  \\\n",
       "0        Stanford University   \n",
       "1      University of Alberta   \n",
       "2            Yale University   \n",
       "3                     Google   \n",
       "4  Google - Spectrum Sharing   \n",
       "\n",
       "                                          course_url  \\\n",
       "0    https://www.coursera.org/learn/machine-learning   \n",
       "1   https://www.coursera.org/learn/indigenous-canada   \n",
       "2  https://www.coursera.org/learn/the-science-of-...   \n",
       "3  https://www.coursera.org/learn/technical-suppo...   \n",
       "4  https://www.coursera.org/learn/google-cbrs-cpi...   \n",
       "\n",
       "                        course_id  \n",
       "0                machine-learning  \n",
       "1               indigenous-canada  \n",
       "2       the-science-of-well-being  \n",
       "3  technical-support-fundamentals  \n",
       "4        google-cbrs-cpi-training  "
      ]
     },
     "execution_count": 99,
     "metadata": {},
     "output_type": "execute_result"
    }
   ],
   "source": [
    "coursera_courses = pd.read_csv('Coursera_courses.csv')\n",
    "coursera_courses.head()"
   ]
  },
  {
   "cell_type": "code",
   "execution_count": 96,
   "metadata": {},
   "outputs": [
    {
     "data": {
      "text/html": [
       "<div>\n",
       "<style scoped>\n",
       "    .dataframe tbody tr th:only-of-type {\n",
       "        vertical-align: middle;\n",
       "    }\n",
       "\n",
       "    .dataframe tbody tr th {\n",
       "        vertical-align: top;\n",
       "    }\n",
       "\n",
       "    .dataframe thead th {\n",
       "        text-align: right;\n",
       "    }\n",
       "</style>\n",
       "<table border=\"1\" class=\"dataframe\">\n",
       "  <thead>\n",
       "    <tr style=\"text-align: right;\">\n",
       "      <th></th>\n",
       "      <th>reviews</th>\n",
       "      <th>reviewers</th>\n",
       "      <th>date_reviews</th>\n",
       "      <th>rating</th>\n",
       "      <th>course_id</th>\n",
       "    </tr>\n",
       "  </thead>\n",
       "  <tbody>\n",
       "    <tr>\n",
       "      <th>0</th>\n",
       "      <td>Pretty dry, but I was able to pass with just t...</td>\n",
       "      <td>By Robert S</td>\n",
       "      <td>Feb 12, 2020</td>\n",
       "      <td>4</td>\n",
       "      <td>google-cbrs-cpi-training</td>\n",
       "    </tr>\n",
       "    <tr>\n",
       "      <th>1</th>\n",
       "      <td>would be a better experience if the video and ...</td>\n",
       "      <td>By Gabriel E R</td>\n",
       "      <td>Sep 28, 2020</td>\n",
       "      <td>4</td>\n",
       "      <td>google-cbrs-cpi-training</td>\n",
       "    </tr>\n",
       "    <tr>\n",
       "      <th>2</th>\n",
       "      <td>Information was perfect! The program itself wa...</td>\n",
       "      <td>By Jacob D</td>\n",
       "      <td>Apr 08, 2020</td>\n",
       "      <td>4</td>\n",
       "      <td>google-cbrs-cpi-training</td>\n",
       "    </tr>\n",
       "    <tr>\n",
       "      <th>3</th>\n",
       "      <td>A few grammatical mistakes on test made me do ...</td>\n",
       "      <td>By Dale B</td>\n",
       "      <td>Feb 24, 2020</td>\n",
       "      <td>4</td>\n",
       "      <td>google-cbrs-cpi-training</td>\n",
       "    </tr>\n",
       "    <tr>\n",
       "      <th>4</th>\n",
       "      <td>Excellent course and the training provided was...</td>\n",
       "      <td>By Sean G</td>\n",
       "      <td>Jun 18, 2020</td>\n",
       "      <td>4</td>\n",
       "      <td>google-cbrs-cpi-training</td>\n",
       "    </tr>\n",
       "  </tbody>\n",
       "</table>\n",
       "</div>"
      ],
      "text/plain": [
       "                                             reviews       reviewers  \\\n",
       "0  Pretty dry, but I was able to pass with just t...     By Robert S   \n",
       "1  would be a better experience if the video and ...  By Gabriel E R   \n",
       "2  Information was perfect! The program itself wa...      By Jacob D   \n",
       "3  A few grammatical mistakes on test made me do ...       By Dale B   \n",
       "4  Excellent course and the training provided was...       By Sean G   \n",
       "\n",
       "   date_reviews  rating                 course_id  \n",
       "0  Feb 12, 2020       4  google-cbrs-cpi-training  \n",
       "1  Sep 28, 2020       4  google-cbrs-cpi-training  \n",
       "2  Apr 08, 2020       4  google-cbrs-cpi-training  \n",
       "3  Feb 24, 2020       4  google-cbrs-cpi-training  \n",
       "4  Jun 18, 2020       4  google-cbrs-cpi-training  "
      ]
     },
     "execution_count": 96,
     "metadata": {},
     "output_type": "execute_result"
    }
   ],
   "source": [
    "coursera_reviews = pd.read_csv('Coursera_reviews.csv')\n",
    "coursera_reviews.head()"
   ]
  },
  {
   "cell_type": "code",
   "execution_count": 97,
   "metadata": {},
   "outputs": [],
   "source": [
    "# Se eliminan duplicados\n",
    "coursera_reviews.drop_duplicates(inplace=True)"
   ]
  },
  {
   "attachments": {},
   "cell_type": "markdown",
   "metadata": {},
   "source": [
    "Ya que en el dataset había muchas Reviews y Ratings por cada curso, se decidió obtener el promedio de ratings y el conteo total de reviews (por curso), y agregar dos columna con esa información."
   ]
  },
  {
   "cell_type": "code",
   "execution_count": 365,
   "metadata": {},
   "outputs": [
    {
     "data": {
      "text/html": [
       "<div>\n",
       "<style scoped>\n",
       "    .dataframe tbody tr th:only-of-type {\n",
       "        vertical-align: middle;\n",
       "    }\n",
       "\n",
       "    .dataframe tbody tr th {\n",
       "        vertical-align: top;\n",
       "    }\n",
       "\n",
       "    .dataframe thead th {\n",
       "        text-align: right;\n",
       "    }\n",
       "</style>\n",
       "<table border=\"1\" class=\"dataframe\">\n",
       "  <thead>\n",
       "    <tr style=\"text-align: right;\">\n",
       "      <th></th>\n",
       "      <th>rating_mean</th>\n",
       "    </tr>\n",
       "    <tr>\n",
       "      <th>course_id</th>\n",
       "      <th></th>\n",
       "    </tr>\n",
       "  </thead>\n",
       "  <tbody>\n",
       "    <tr>\n",
       "      <th>building-modern-python-applications-on-aws</th>\n",
       "      <td>5.000</td>\n",
       "    </tr>\n",
       "    <tr>\n",
       "      <th>entreprise-changement-climatique</th>\n",
       "      <td>5.000</td>\n",
       "    </tr>\n",
       "    <tr>\n",
       "      <th>remote-team-management</th>\n",
       "      <td>5.000</td>\n",
       "    </tr>\n",
       "    <tr>\n",
       "      <th>removing-barriers-to-change</th>\n",
       "      <td>5.000</td>\n",
       "    </tr>\n",
       "    <tr>\n",
       "      <th>legaltech</th>\n",
       "      <td>4.968</td>\n",
       "    </tr>\n",
       "  </tbody>\n",
       "</table>\n",
       "</div>"
      ],
      "text/plain": [
       "                                            rating_mean\n",
       "course_id                                              \n",
       "building-modern-python-applications-on-aws        5.000\n",
       "entreprise-changement-climatique                  5.000\n",
       "remote-team-management                            5.000\n",
       "removing-barriers-to-change                       5.000\n",
       "legaltech                                         4.968"
      ]
     },
     "execution_count": 365,
     "metadata": {},
     "output_type": "execute_result"
    }
   ],
   "source": [
    "mean_rating = pd.DataFrame(coursera_reviews.groupby(['course_id']).rating.agg('mean').sort_values(ascending=False))\n",
    "mean_rating.rename(columns={'rating':'rating_mean'}, inplace=True)\n",
    "mean_rating.head()"
   ]
  },
  {
   "cell_type": "code",
   "execution_count": 366,
   "metadata": {},
   "outputs": [
    {
     "data": {
      "text/html": [
       "<div>\n",
       "<style scoped>\n",
       "    .dataframe tbody tr th:only-of-type {\n",
       "        vertical-align: middle;\n",
       "    }\n",
       "\n",
       "    .dataframe tbody tr th {\n",
       "        vertical-align: top;\n",
       "    }\n",
       "\n",
       "    .dataframe thead th {\n",
       "        text-align: right;\n",
       "    }\n",
       "</style>\n",
       "<table border=\"1\" class=\"dataframe\">\n",
       "  <thead>\n",
       "    <tr style=\"text-align: right;\">\n",
       "      <th></th>\n",
       "      <th>reviews_count</th>\n",
       "    </tr>\n",
       "    <tr>\n",
       "      <th>course_id</th>\n",
       "      <th></th>\n",
       "    </tr>\n",
       "  </thead>\n",
       "  <tbody>\n",
       "    <tr>\n",
       "      <th>aboriginal-education</th>\n",
       "      <td>67</td>\n",
       "    </tr>\n",
       "    <tr>\n",
       "      <th>access-control-sscp</th>\n",
       "      <td>45</td>\n",
       "    </tr>\n",
       "    <tr>\n",
       "      <th>accounting-analytics</th>\n",
       "      <td>468</td>\n",
       "    </tr>\n",
       "    <tr>\n",
       "      <th>accounting-data-analytics-python</th>\n",
       "      <td>8</td>\n",
       "    </tr>\n",
       "    <tr>\n",
       "      <th>actualizacion-manejo-diabetes-tipo-2</th>\n",
       "      <td>253</td>\n",
       "    </tr>\n",
       "  </tbody>\n",
       "</table>\n",
       "</div>"
      ],
      "text/plain": [
       "                                      reviews_count\n",
       "course_id                                          \n",
       "aboriginal-education                             67\n",
       "access-control-sscp                              45\n",
       "accounting-analytics                            468\n",
       "accounting-data-analytics-python                  8\n",
       "actualizacion-manejo-diabetes-tipo-2            253"
      ]
     },
     "execution_count": 366,
     "metadata": {},
     "output_type": "execute_result"
    }
   ],
   "source": [
    "reviews_count = pd.DataFrame(coursera_reviews.groupby(['course_id']).reviews.count())\n",
    "reviews_count.rename(columns={'reviews':'reviews_count'}, inplace=True)\n",
    "reviews_count.head()"
   ]
  },
  {
   "attachments": {},
   "cell_type": "markdown",
   "metadata": {},
   "source": [
    "Se unificó la información obtenida en el paso anterior con la información de los cursos en una sola tabla."
   ]
  },
  {
   "cell_type": "code",
   "execution_count": 367,
   "metadata": {},
   "outputs": [
    {
     "data": {
      "text/html": [
       "<div>\n",
       "<style scoped>\n",
       "    .dataframe tbody tr th:only-of-type {\n",
       "        vertical-align: middle;\n",
       "    }\n",
       "\n",
       "    .dataframe tbody tr th {\n",
       "        vertical-align: top;\n",
       "    }\n",
       "\n",
       "    .dataframe thead th {\n",
       "        text-align: right;\n",
       "    }\n",
       "</style>\n",
       "<table border=\"1\" class=\"dataframe\">\n",
       "  <thead>\n",
       "    <tr style=\"text-align: right;\">\n",
       "      <th></th>\n",
       "      <th>name</th>\n",
       "      <th>institution</th>\n",
       "      <th>course_url</th>\n",
       "      <th>course_id</th>\n",
       "      <th>rating_mean</th>\n",
       "      <th>reviews_count</th>\n",
       "    </tr>\n",
       "  </thead>\n",
       "  <tbody>\n",
       "    <tr>\n",
       "      <th>0</th>\n",
       "      <td>Machine Learning</td>\n",
       "      <td>Stanford University</td>\n",
       "      <td>https://www.coursera.org/learn/machine-learning</td>\n",
       "      <td>machine-learning</td>\n",
       "      <td>4.739923</td>\n",
       "      <td>12677.0</td>\n",
       "    </tr>\n",
       "    <tr>\n",
       "      <th>1</th>\n",
       "      <td>Indigenous Canada</td>\n",
       "      <td>University of Alberta</td>\n",
       "      <td>https://www.coursera.org/learn/indigenous-canada</td>\n",
       "      <td>indigenous-canada</td>\n",
       "      <td>4.816438</td>\n",
       "      <td>1460.0</td>\n",
       "    </tr>\n",
       "    <tr>\n",
       "      <th>2</th>\n",
       "      <td>The Science of Well-Being</td>\n",
       "      <td>Yale University</td>\n",
       "      <td>https://www.coursera.org/learn/the-science-of-...</td>\n",
       "      <td>the-science-of-well-being</td>\n",
       "      <td>4.929504</td>\n",
       "      <td>8199.0</td>\n",
       "    </tr>\n",
       "    <tr>\n",
       "      <th>3</th>\n",
       "      <td>Technical Support Fundamentals</td>\n",
       "      <td>Google</td>\n",
       "      <td>https://www.coursera.org/learn/technical-suppo...</td>\n",
       "      <td>technical-support-fundamentals</td>\n",
       "      <td>4.767482</td>\n",
       "      <td>12054.0</td>\n",
       "    </tr>\n",
       "    <tr>\n",
       "      <th>4</th>\n",
       "      <td>Become a CBRS Certified Professional Installer...</td>\n",
       "      <td>Google - Spectrum Sharing</td>\n",
       "      <td>https://www.coursera.org/learn/google-cbrs-cpi...</td>\n",
       "      <td>google-cbrs-cpi-training</td>\n",
       "      <td>4.818182</td>\n",
       "      <td>33.0</td>\n",
       "    </tr>\n",
       "    <tr>\n",
       "      <th>...</th>\n",
       "      <td>...</td>\n",
       "      <td>...</td>\n",
       "      <td>...</td>\n",
       "      <td>...</td>\n",
       "      <td>...</td>\n",
       "      <td>...</td>\n",
       "    </tr>\n",
       "    <tr>\n",
       "      <th>618</th>\n",
       "      <td>Accounting Data Analytics with Python</td>\n",
       "      <td>University of Illinois at Urbana-Champaign</td>\n",
       "      <td>https://www.coursera.org/learn/accounting-data...</td>\n",
       "      <td>accounting-data-analytics-python</td>\n",
       "      <td>3.500000</td>\n",
       "      <td>8.0</td>\n",
       "    </tr>\n",
       "    <tr>\n",
       "      <th>619</th>\n",
       "      <td>Introduction to Molecular Spectroscopy</td>\n",
       "      <td>University of Manchester</td>\n",
       "      <td>https://www.coursera.org/learn/spectroscopy</td>\n",
       "      <td>spectroscopy</td>\n",
       "      <td>4.607843</td>\n",
       "      <td>408.0</td>\n",
       "    </tr>\n",
       "    <tr>\n",
       "      <th>620</th>\n",
       "      <td>Managing as a Coach</td>\n",
       "      <td>University of California, Davis</td>\n",
       "      <td>https://www.coursera.org/learn/managing-as-a-c...</td>\n",
       "      <td>managing-as-a-coach</td>\n",
       "      <td>4.734043</td>\n",
       "      <td>282.0</td>\n",
       "    </tr>\n",
       "    <tr>\n",
       "      <th>621</th>\n",
       "      <td>The fundamentals of hotel distribution</td>\n",
       "      <td>ESSEC Business School</td>\n",
       "      <td>https://www.coursera.org/learn/hotel-distribution</td>\n",
       "      <td>hotel-distribution</td>\n",
       "      <td>NaN</td>\n",
       "      <td>NaN</td>\n",
       "    </tr>\n",
       "    <tr>\n",
       "      <th>622</th>\n",
       "      <td>A Crash Course in Data Science</td>\n",
       "      <td>Johns Hopkins University</td>\n",
       "      <td>https://www.coursera.org/learn/data-science-co...</td>\n",
       "      <td>data-science-course</td>\n",
       "      <td>NaN</td>\n",
       "      <td>NaN</td>\n",
       "    </tr>\n",
       "  </tbody>\n",
       "</table>\n",
       "<p>623 rows × 6 columns</p>\n",
       "</div>"
      ],
      "text/plain": [
       "                                                  name  \\\n",
       "0                                     Machine Learning   \n",
       "1                                    Indigenous Canada   \n",
       "2                            The Science of Well-Being   \n",
       "3                       Technical Support Fundamentals   \n",
       "4    Become a CBRS Certified Professional Installer...   \n",
       "..                                                 ...   \n",
       "618              Accounting Data Analytics with Python   \n",
       "619             Introduction to Molecular Spectroscopy   \n",
       "620                                Managing as a Coach   \n",
       "621             The fundamentals of hotel distribution   \n",
       "622                     A Crash Course in Data Science   \n",
       "\n",
       "                                    institution  \\\n",
       "0                           Stanford University   \n",
       "1                         University of Alberta   \n",
       "2                               Yale University   \n",
       "3                                        Google   \n",
       "4                     Google - Spectrum Sharing   \n",
       "..                                          ...   \n",
       "618  University of Illinois at Urbana-Champaign   \n",
       "619                 University of Manchester      \n",
       "620             University of California, Davis   \n",
       "621                       ESSEC Business School   \n",
       "622                    Johns Hopkins University   \n",
       "\n",
       "                                            course_url  \\\n",
       "0      https://www.coursera.org/learn/machine-learning   \n",
       "1     https://www.coursera.org/learn/indigenous-canada   \n",
       "2    https://www.coursera.org/learn/the-science-of-...   \n",
       "3    https://www.coursera.org/learn/technical-suppo...   \n",
       "4    https://www.coursera.org/learn/google-cbrs-cpi...   \n",
       "..                                                 ...   \n",
       "618  https://www.coursera.org/learn/accounting-data...   \n",
       "619        https://www.coursera.org/learn/spectroscopy   \n",
       "620  https://www.coursera.org/learn/managing-as-a-c...   \n",
       "621  https://www.coursera.org/learn/hotel-distribution   \n",
       "622  https://www.coursera.org/learn/data-science-co...   \n",
       "\n",
       "                            course_id  rating_mean  reviews_count  \n",
       "0                    machine-learning     4.739923        12677.0  \n",
       "1                   indigenous-canada     4.816438         1460.0  \n",
       "2           the-science-of-well-being     4.929504         8199.0  \n",
       "3      technical-support-fundamentals     4.767482        12054.0  \n",
       "4            google-cbrs-cpi-training     4.818182           33.0  \n",
       "..                                ...          ...            ...  \n",
       "618  accounting-data-analytics-python     3.500000            8.0  \n",
       "619                      spectroscopy     4.607843          408.0  \n",
       "620               managing-as-a-coach     4.734043          282.0  \n",
       "621                hotel-distribution          NaN            NaN  \n",
       "622               data-science-course          NaN            NaN  \n",
       "\n",
       "[623 rows x 6 columns]"
      ]
     },
     "execution_count": 367,
     "metadata": {},
     "output_type": "execute_result"
    }
   ],
   "source": [
    "coursera_full = ((coursera_courses.join(mean_rating, on='course_id')).join(reviews_count, on='course_id'))\n",
    "coursera_full"
   ]
  },
  {
   "cell_type": "code",
   "execution_count": 368,
   "metadata": {},
   "outputs": [],
   "source": [
    "#Se eliminan columnas innecesarias\n",
    "coursera_full.drop(['course_url','course_id'], axis=1,inplace=True)"
   ]
  },
  {
   "attachments": {},
   "cell_type": "markdown",
   "metadata": {},
   "source": [
    "Debido a que en la solicitud de trabajo se especificaba segmentar por idioma, se utilizó la librería **langdetect** para detectar el idioma del nombre de los cursos."
   ]
  },
  {
   "cell_type": "code",
   "execution_count": 369,
   "metadata": {},
   "outputs": [
    {
     "data": {
      "text/html": [
       "<div>\n",
       "<style scoped>\n",
       "    .dataframe tbody tr th:only-of-type {\n",
       "        vertical-align: middle;\n",
       "    }\n",
       "\n",
       "    .dataframe tbody tr th {\n",
       "        vertical-align: top;\n",
       "    }\n",
       "\n",
       "    .dataframe thead th {\n",
       "        text-align: right;\n",
       "    }\n",
       "</style>\n",
       "<table border=\"1\" class=\"dataframe\">\n",
       "  <thead>\n",
       "    <tr style=\"text-align: right;\">\n",
       "      <th></th>\n",
       "      <th>name</th>\n",
       "      <th>institution</th>\n",
       "      <th>rating_mean</th>\n",
       "      <th>reviews_count</th>\n",
       "      <th>language</th>\n",
       "    </tr>\n",
       "  </thead>\n",
       "  <tbody>\n",
       "    <tr>\n",
       "      <th>0</th>\n",
       "      <td>Machine Learning</td>\n",
       "      <td>Stanford University</td>\n",
       "      <td>4.739923</td>\n",
       "      <td>12677.0</td>\n",
       "      <td>en</td>\n",
       "    </tr>\n",
       "    <tr>\n",
       "      <th>1</th>\n",
       "      <td>Indigenous Canada</td>\n",
       "      <td>University of Alberta</td>\n",
       "      <td>4.816438</td>\n",
       "      <td>1460.0</td>\n",
       "      <td>id</td>\n",
       "    </tr>\n",
       "    <tr>\n",
       "      <th>2</th>\n",
       "      <td>The Science of Well-Being</td>\n",
       "      <td>Yale University</td>\n",
       "      <td>4.929504</td>\n",
       "      <td>8199.0</td>\n",
       "      <td>en</td>\n",
       "    </tr>\n",
       "    <tr>\n",
       "      <th>3</th>\n",
       "      <td>Technical Support Fundamentals</td>\n",
       "      <td>Google</td>\n",
       "      <td>4.767482</td>\n",
       "      <td>12054.0</td>\n",
       "      <td>de</td>\n",
       "    </tr>\n",
       "    <tr>\n",
       "      <th>4</th>\n",
       "      <td>Become a CBRS Certified Professional Installer...</td>\n",
       "      <td>Google - Spectrum Sharing</td>\n",
       "      <td>4.818182</td>\n",
       "      <td>33.0</td>\n",
       "      <td>en</td>\n",
       "    </tr>\n",
       "  </tbody>\n",
       "</table>\n",
       "</div>"
      ],
      "text/plain": [
       "                                                name  \\\n",
       "0                                   Machine Learning   \n",
       "1                                  Indigenous Canada   \n",
       "2                          The Science of Well-Being   \n",
       "3                     Technical Support Fundamentals   \n",
       "4  Become a CBRS Certified Professional Installer...   \n",
       "\n",
       "                 institution  rating_mean  reviews_count language  \n",
       "0        Stanford University     4.739923        12677.0       en  \n",
       "1      University of Alberta     4.816438         1460.0       id  \n",
       "2            Yale University     4.929504         8199.0       en  \n",
       "3                     Google     4.767482        12054.0       de  \n",
       "4  Google - Spectrum Sharing     4.818182           33.0       en  "
      ]
     },
     "execution_count": 369,
     "metadata": {},
     "output_type": "execute_result"
    }
   ],
   "source": [
    "coursera_full['language'] = coursera_full['name'].apply(detect)\n",
    "coursera_full.head()"
   ]
  },
  {
   "attachments": {},
   "cell_type": "markdown",
   "metadata": {},
   "source": [
    "Como se observa en la respuesta obtenida en el paso anterior, en los índices 1 y 3 el idioma es inglés, sin embargo, la librería lo detectó diferente; por ello, se decidió hacer una verificación manual de los idiomas atribuídos."
   ]
  },
  {
   "cell_type": "code",
   "execution_count": 373,
   "metadata": {},
   "outputs": [
    {
     "data": {
      "text/plain": [
       "en    522\n",
       "es     25\n",
       "fr     14\n",
       "de     13\n",
       "it     12\n",
       "ca      7\n",
       "tl      5\n",
       "ru      5\n",
       "no      4\n",
       "ro      3\n",
       "nl      3\n",
       "da      3\n",
       "id      2\n",
       "pt      2\n",
       "lt      1\n",
       "af      1\n",
       "pl      1\n",
       "Name: language, dtype: int64"
      ]
     },
     "execution_count": 373,
     "metadata": {},
     "output_type": "execute_result"
    }
   ],
   "source": [
    "coursera_full['language'].value_counts()"
   ]
  },
  {
   "cell_type": "code",
   "execution_count": 454,
   "metadata": {},
   "outputs": [
    {
     "data": {
      "text/html": [
       "<div>\n",
       "<style scoped>\n",
       "    .dataframe tbody tr th:only-of-type {\n",
       "        vertical-align: middle;\n",
       "    }\n",
       "\n",
       "    .dataframe tbody tr th {\n",
       "        vertical-align: top;\n",
       "    }\n",
       "\n",
       "    .dataframe thead th {\n",
       "        text-align: right;\n",
       "    }\n",
       "</style>\n",
       "<table border=\"1\" class=\"dataframe\">\n",
       "  <thead>\n",
       "    <tr style=\"text-align: right;\">\n",
       "      <th></th>\n",
       "      <th>name</th>\n",
       "      <th>institution</th>\n",
       "      <th>rating_mean</th>\n",
       "      <th>reviews_count</th>\n",
       "      <th>language</th>\n",
       "    </tr>\n",
       "  </thead>\n",
       "  <tbody>\n",
       "    <tr>\n",
       "      <th>38</th>\n",
       "      <td>Primeros Auxilios Psicológicos (PAP)</td>\n",
       "      <td>Universitat Autònoma de Barcelona</td>\n",
       "      <td>4.870597</td>\n",
       "      <td>2697.0</td>\n",
       "      <td>es</td>\n",
       "    </tr>\n",
       "    <tr>\n",
       "      <th>110</th>\n",
       "      <td>Contabilidad para no contadores</td>\n",
       "      <td>Universidad Nacional Autónoma de México</td>\n",
       "      <td>4.763168</td>\n",
       "      <td>2525.0</td>\n",
       "      <td>es</td>\n",
       "    </tr>\n",
       "    <tr>\n",
       "      <th>122</th>\n",
       "      <td>Camino a la Excelencia en Gestión de Proyectos</td>\n",
       "      <td>Pontificia Universidad Católica de Chile</td>\n",
       "      <td>4.564368</td>\n",
       "      <td>1740.0</td>\n",
       "      <td>es</td>\n",
       "    </tr>\n",
       "    <tr>\n",
       "      <th>143</th>\n",
       "      <td>Cursos en línea: modelo para armar</td>\n",
       "      <td>Universidad Nacional Autónoma de México</td>\n",
       "      <td>4.896552</td>\n",
       "      <td>58.0</td>\n",
       "      <td>es</td>\n",
       "    </tr>\n",
       "    <tr>\n",
       "      <th>175</th>\n",
       "      <td>Nutrición y obesidad: control de sobrepeso</td>\n",
       "      <td>Universidad Nacional Autónoma de México</td>\n",
       "      <td>4.789232</td>\n",
       "      <td>1523.0</td>\n",
       "      <td>es</td>\n",
       "    </tr>\n",
       "    <tr>\n",
       "      <th>233</th>\n",
       "      <td>Competencias digitales. Herramientas de ofimát...</td>\n",
       "      <td>Universitat Autònoma de Barcelona</td>\n",
       "      <td>4.785586</td>\n",
       "      <td>1110.0</td>\n",
       "      <td>es</td>\n",
       "    </tr>\n",
       "    <tr>\n",
       "      <th>268</th>\n",
       "      <td>Negociación exitosa: Estrategias y habilidades...</td>\n",
       "      <td>University of Michigan</td>\n",
       "      <td>4.818182</td>\n",
       "      <td>715.0</td>\n",
       "      <td>es</td>\n",
       "    </tr>\n",
       "    <tr>\n",
       "      <th>292</th>\n",
       "      <td>Introducción a la programación en Python I: Ap...</td>\n",
       "      <td>Pontificia Universidad Católica de Chile</td>\n",
       "      <td>4.205155</td>\n",
       "      <td>970.0</td>\n",
       "      <td>es</td>\n",
       "    </tr>\n",
       "    <tr>\n",
       "      <th>310</th>\n",
       "      <td>Gestión Empresarial Exitosa para Pymes</td>\n",
       "      <td>Pontificia Universidad Católica de Chile</td>\n",
       "      <td>4.856009</td>\n",
       "      <td>1764.0</td>\n",
       "      <td>es</td>\n",
       "    </tr>\n",
       "    <tr>\n",
       "      <th>328</th>\n",
       "      <td>Fundamentos de Excel para Negocios</td>\n",
       "      <td>Universidad Austral</td>\n",
       "      <td>4.806400</td>\n",
       "      <td>1250.0</td>\n",
       "      <td>es</td>\n",
       "    </tr>\n",
       "    <tr>\n",
       "      <th>331</th>\n",
       "      <td>Fundamentos de Finanzas Empresariales</td>\n",
       "      <td>Universidad de los Andes</td>\n",
       "      <td>4.898058</td>\n",
       "      <td>1442.0</td>\n",
       "      <td>es</td>\n",
       "    </tr>\n",
       "    <tr>\n",
       "      <th>354</th>\n",
       "      <td>Claves para Gestionar Personas</td>\n",
       "      <td>IESE Business School</td>\n",
       "      <td>4.849845</td>\n",
       "      <td>646.0</td>\n",
       "      <td>es</td>\n",
       "    </tr>\n",
       "    <tr>\n",
       "      <th>361</th>\n",
       "      <td>El Abogado del Futuro: Legaltech y la Transfor...</td>\n",
       "      <td>Universidad Austral</td>\n",
       "      <td>4.968000</td>\n",
       "      <td>125.0</td>\n",
       "      <td>es</td>\n",
       "    </tr>\n",
       "    <tr>\n",
       "      <th>377</th>\n",
       "      <td>Excel aplicado a los negocios (Nivel Avanzado)</td>\n",
       "      <td>Universidad Austral</td>\n",
       "      <td>4.719626</td>\n",
       "      <td>642.0</td>\n",
       "      <td>es</td>\n",
       "    </tr>\n",
       "    <tr>\n",
       "      <th>389</th>\n",
       "      <td>Democracia y decisiones públicas. Introducción...</td>\n",
       "      <td>Universitat Autònoma de Barcelona</td>\n",
       "      <td>4.860092</td>\n",
       "      <td>436.0</td>\n",
       "      <td>es</td>\n",
       "    </tr>\n",
       "    <tr>\n",
       "      <th>392</th>\n",
       "      <td>Anticorrupción: Introducción a conceptos y per...</td>\n",
       "      <td>Universidad Nacional Autónoma de México</td>\n",
       "      <td>4.851948</td>\n",
       "      <td>385.0</td>\n",
       "      <td>es</td>\n",
       "    </tr>\n",
       "    <tr>\n",
       "      <th>397</th>\n",
       "      <td>Introducción a Data Science: Programación Esta...</td>\n",
       "      <td>Universidad Nacional Autónoma de México</td>\n",
       "      <td>4.732971</td>\n",
       "      <td>2393.0</td>\n",
       "      <td>es</td>\n",
       "    </tr>\n",
       "    <tr>\n",
       "      <th>417</th>\n",
       "      <td>Finanzas personales</td>\n",
       "      <td>Universidad Nacional Autónoma de México</td>\n",
       "      <td>4.803475</td>\n",
       "      <td>2590.0</td>\n",
       "      <td>es</td>\n",
       "    </tr>\n",
       "    <tr>\n",
       "      <th>434</th>\n",
       "      <td>Aprendiendo a aprender: Poderosas herramientas...</td>\n",
       "      <td>University of California San Diego</td>\n",
       "      <td>4.919417</td>\n",
       "      <td>3090.0</td>\n",
       "      <td>es</td>\n",
       "    </tr>\n",
       "    <tr>\n",
       "      <th>523</th>\n",
       "      <td>Corrección, estilo y  variaciones de la lengua...</td>\n",
       "      <td>Universitat Autònoma de Barcelona</td>\n",
       "      <td>4.736413</td>\n",
       "      <td>368.0</td>\n",
       "      <td>es</td>\n",
       "    </tr>\n",
       "    <tr>\n",
       "      <th>532</th>\n",
       "      <td>Gestión de organizaciones efectivas</td>\n",
       "      <td>Pontificia Universidad Católica de Chile</td>\n",
       "      <td>4.756098</td>\n",
       "      <td>615.0</td>\n",
       "      <td>es</td>\n",
       "    </tr>\n",
       "    <tr>\n",
       "      <th>601</th>\n",
       "      <td>Actualización en el manejo del paciente con di...</td>\n",
       "      <td>Universidad Nacional Autónoma de México</td>\n",
       "      <td>4.845850</td>\n",
       "      <td>253.0</td>\n",
       "      <td>es</td>\n",
       "    </tr>\n",
       "    <tr>\n",
       "      <th>607</th>\n",
       "      <td>Competencias Laborales: Perfiles, Evaluación y...</td>\n",
       "      <td>Universidad de Chile</td>\n",
       "      <td>4.310345</td>\n",
       "      <td>87.0</td>\n",
       "      <td>es</td>\n",
       "    </tr>\n",
       "    <tr>\n",
       "      <th>616</th>\n",
       "      <td>Hacia una práctica constructivista en el aula</td>\n",
       "      <td>Pontificia Universidad Católica de Chile</td>\n",
       "      <td>4.905097</td>\n",
       "      <td>569.0</td>\n",
       "      <td>es</td>\n",
       "    </tr>\n",
       "  </tbody>\n",
       "</table>\n",
       "</div>"
      ],
      "text/plain": [
       "                                                  name  \\\n",
       "38                Primeros Auxilios Psicológicos (PAP)   \n",
       "110                    Contabilidad para no contadores   \n",
       "122     Camino a la Excelencia en Gestión de Proyectos   \n",
       "143                 Cursos en línea: modelo para armar   \n",
       "175         Nutrición y obesidad: control de sobrepeso   \n",
       "233  Competencias digitales. Herramientas de ofimát...   \n",
       "268  Negociación exitosa: Estrategias y habilidades...   \n",
       "292  Introducción a la programación en Python I: Ap...   \n",
       "310             Gestión Empresarial Exitosa para Pymes   \n",
       "328                 Fundamentos de Excel para Negocios   \n",
       "331              Fundamentos de Finanzas Empresariales   \n",
       "354                     Claves para Gestionar Personas   \n",
       "361  El Abogado del Futuro: Legaltech y la Transfor...   \n",
       "377     Excel aplicado a los negocios (Nivel Avanzado)   \n",
       "389  Democracia y decisiones públicas. Introducción...   \n",
       "392  Anticorrupción: Introducción a conceptos y per...   \n",
       "397  Introducción a Data Science: Programación Esta...   \n",
       "417                                Finanzas personales   \n",
       "434  Aprendiendo a aprender: Poderosas herramientas...   \n",
       "523  Corrección, estilo y  variaciones de la lengua...   \n",
       "532                Gestión de organizaciones efectivas   \n",
       "601  Actualización en el manejo del paciente con di...   \n",
       "607  Competencias Laborales: Perfiles, Evaluación y...   \n",
       "616      Hacia una práctica constructivista en el aula   \n",
       "\n",
       "                                  institution  rating_mean  reviews_count  \\\n",
       "38          Universitat Autònoma de Barcelona     4.870597         2697.0   \n",
       "110   Universidad Nacional Autónoma de México     4.763168         2525.0   \n",
       "122  Pontificia Universidad Católica de Chile     4.564368         1740.0   \n",
       "143   Universidad Nacional Autónoma de México     4.896552           58.0   \n",
       "175   Universidad Nacional Autónoma de México     4.789232         1523.0   \n",
       "233         Universitat Autònoma de Barcelona     4.785586         1110.0   \n",
       "268                    University of Michigan     4.818182          715.0   \n",
       "292  Pontificia Universidad Católica de Chile     4.205155          970.0   \n",
       "310  Pontificia Universidad Católica de Chile     4.856009         1764.0   \n",
       "328                       Universidad Austral     4.806400         1250.0   \n",
       "331                  Universidad de los Andes     4.898058         1442.0   \n",
       "354                      IESE Business School     4.849845          646.0   \n",
       "361                       Universidad Austral     4.968000          125.0   \n",
       "377                       Universidad Austral     4.719626          642.0   \n",
       "389         Universitat Autònoma de Barcelona     4.860092          436.0   \n",
       "392   Universidad Nacional Autónoma de México     4.851948          385.0   \n",
       "397   Universidad Nacional Autónoma de México     4.732971         2393.0   \n",
       "417   Universidad Nacional Autónoma de México     4.803475         2590.0   \n",
       "434        University of California San Diego     4.919417         3090.0   \n",
       "523         Universitat Autònoma de Barcelona     4.736413          368.0   \n",
       "532  Pontificia Universidad Católica de Chile     4.756098          615.0   \n",
       "601   Universidad Nacional Autónoma de México     4.845850          253.0   \n",
       "607                      Universidad de Chile     4.310345           87.0   \n",
       "616  Pontificia Universidad Católica de Chile     4.905097          569.0   \n",
       "\n",
       "    language  \n",
       "38        es  \n",
       "110       es  \n",
       "122       es  \n",
       "143       es  \n",
       "175       es  \n",
       "233       es  \n",
       "268       es  \n",
       "292       es  \n",
       "310       es  \n",
       "328       es  \n",
       "331       es  \n",
       "354       es  \n",
       "361       es  \n",
       "377       es  \n",
       "389       es  \n",
       "392       es  \n",
       "397       es  \n",
       "417       es  \n",
       "434       es  \n",
       "523       es  \n",
       "532       es  \n",
       "601       es  \n",
       "607       es  \n",
       "616       es  "
      ]
     },
     "execution_count": 454,
     "metadata": {},
     "output_type": "execute_result"
    }
   ],
   "source": [
    "# Correr esta celda antes y después del replace para verificar el cambio\n",
    "coursera_full[coursera_full['language'] == 'es']"
   ]
  },
  {
   "cell_type": "code",
   "execution_count": 425,
   "metadata": {},
   "outputs": [],
   "source": [
    "coursera_full['language'].replace(to_replace='pl',value='en',inplace=True)"
   ]
  },
  {
   "cell_type": "code",
   "execution_count": 457,
   "metadata": {},
   "outputs": [],
   "source": [
    "# Se cambia el código de idioma por el nombre completo.\n",
    "coursera_full['language'].replace(to_replace=['en','es','fr','ru','pt'], value=['Inglés','Español','Francés','Ruso','Portugués'], inplace=True)"
   ]
  },
  {
   "attachments": {},
   "cell_type": "markdown",
   "metadata": {},
   "source": [
    "Después de la verificación se obtuvieron 5 idiomas diferentes en el dataset."
   ]
  },
  {
   "cell_type": "code",
   "execution_count": 458,
   "metadata": {},
   "outputs": [
    {
     "data": {
      "text/plain": [
       "<AxesSubplot: >"
      ]
     },
     "execution_count": 458,
     "metadata": {},
     "output_type": "execute_result"
    },
    {
     "data": {
      "image/png": "[encoded data removed]",
      "text/plain": [
       "<Figure size 640x480 with 1 Axes>"
      ]
     },
     "metadata": {},
     "output_type": "display_data"
    }
   ],
   "source": [
    "coursera_full['language'].value_counts().plot(kind='bar')"
   ]
  },
  {
   "cell_type": "code",
   "execution_count": 459,
   "metadata": {},
   "outputs": [],
   "source": [
    "# Se exporta el CSV para su utilización en Power BI\n",
    "coursera_full.to_csv('coursera_full.csv')"
   ]
  },
  {
   "attachments": {},
   "cell_type": "markdown",
   "metadata": {},
   "source": [
    "Finalmente se obtuvieron algunas visualizaciones para el ánalisis de datos."
   ]
  },
  {
   "cell_type": "code",
   "execution_count": 141,
   "metadata": {},
   "outputs": [
    {
     "data": {
      "text/plain": [
       "<AxesSubplot: xlabel='rating'>"
      ]
     },
     "execution_count": 141,
     "metadata": {},
     "output_type": "execute_result"
    },
    {
     "data": {
      "image/png": "[encoded data removed]",
      "text/plain": [
       "<Figure size 640x480 with 1 Axes>"
      ]
     },
     "metadata": {},
     "output_type": "display_data"
    }
   ],
   "source": [
    "sns.boxplot(x='rating', data=coursera_full)"
   ]
  },
  {
   "cell_type": "code",
   "execution_count": 142,
   "metadata": {},
   "outputs": [
    {
     "data": {
      "text/plain": [
       "count    604.000000\n",
       "mean       4.619780\n",
       "std        0.394290\n",
       "min        1.000000\n",
       "25%        4.551803\n",
       "50%        4.717742\n",
       "75%        4.814681\n",
       "max        5.000000\n",
       "Name: rating, dtype: float64"
      ]
     },
     "execution_count": 142,
     "metadata": {},
     "output_type": "execute_result"
    }
   ],
   "source": [
    "coursera_full['rating'].describe()"
   ]
  },
  {
   "cell_type": "code",
   "execution_count": 143,
   "metadata": {},
   "outputs": [
    {
     "data": {
      "text/plain": [
       "<AxesSubplot: xlabel='reviews'>"
      ]
     },
     "execution_count": 143,
     "metadata": {},
     "output_type": "execute_result"
    },
    {
     "data": {
      "image/png": "[encoded data removed]",
      "text/plain": [
       "<Figure size 640x480 with 1 Axes>"
      ]
     },
     "metadata": {},
     "output_type": "display_data"
    }
   ],
   "source": [
    "sns.boxplot(x='reviews', data=coursera_full)"
   ]
  },
  {
   "cell_type": "code",
   "execution_count": 144,
   "metadata": {},
   "outputs": [
    {
     "data": {
      "text/plain": [
       "count      604.000000\n",
       "mean       860.746689\n",
       "std       1608.474817\n",
       "min          1.000000\n",
       "25%        132.750000\n",
       "50%        387.000000\n",
       "75%        847.750000\n",
       "max      15226.000000\n",
       "Name: reviews, dtype: float64"
      ]
     },
     "execution_count": 144,
     "metadata": {},
     "output_type": "execute_result"
    }
   ],
   "source": [
    "coursera_full['reviews'].describe()"
   ]
  },
  {
   "cell_type": "code",
   "execution_count": 101,
   "metadata": {},
   "outputs": [
    {
     "data": {
      "text/plain": [
       "University of Pennsylvania                    43\n",
       "University of Michigan                        31\n",
       "Duke University                               24\n",
       "Google Cloud                                  22\n",
       "IBM                                           18\n",
       "Stanford University                           18\n",
       "University of Illinois at Urbana-Champaign    17\n",
       "University of Virginia                        17\n",
       "Yale University                               17\n",
       "DeepLearning.AI                               16\n",
       "Name: institution, dtype: int64"
      ]
     },
     "execution_count": 101,
     "metadata": {},
     "output_type": "execute_result"
    }
   ],
   "source": [
    "coursera_courses['institution'].value_counts().head(10)"
   ]
  },
  {
   "cell_type": "code",
   "execution_count": 145,
   "metadata": {},
   "outputs": [
    {
     "data": {
      "text/plain": [
       "<AxesSubplot: xlabel='count', ylabel='institution'>"
      ]
     },
     "execution_count": 145,
     "metadata": {},
     "output_type": "execute_result"
    },
    {
     "data": {
      "image/png": "[encoded data removed]",
      "text/plain": [
       "<Figure size 640x480 with 1 Axes>"
      ]
     },
     "metadata": {},
     "output_type": "display_data"
    }
   ],
   "source": [
    "sns.countplot(data = coursera_full[(coursera_full['rating'] > 4.55) & (coursera_full['reviews'] > 132)].sort_values(by=['rating'], \n",
    "              ascending=False).head(50), y='institution')"
   ]
  },
  {
   "attachments": {},
   "cell_type": "markdown",
   "metadata": {},
   "source": [
    "## - Edx"
   ]
  },
  {
   "attachments": {},
   "cell_type": "markdown",
   "metadata": {},
   "source": [
    "Inicialmente se ingesta el dataset, se obtiene información general de él, se eliminan duplicados y se eliminan columnas innecesarias."
   ]
  },
  {
   "cell_type": "code",
   "execution_count": 460,
   "metadata": {},
   "outputs": [],
   "source": [
    "edx_courses = pd.read_csv('edx_courses.csv')"
   ]
  },
  {
   "cell_type": "code",
   "execution_count": 461,
   "metadata": {},
   "outputs": [
    {
     "name": "stdout",
     "output_type": "stream",
     "text": [
      "<class 'pandas.core.frame.DataFrame'>\n",
      "RangeIndex: 975 entries, 0 to 974\n",
      "Data columns (total 16 columns):\n",
      " #   Column              Non-Null Count  Dtype \n",
      "---  ------              --------------  ----- \n",
      " 0   title               975 non-null    object\n",
      " 1   summary             922 non-null    object\n",
      " 2   n_enrolled          855 non-null    object\n",
      " 3   course_type         975 non-null    object\n",
      " 4   institution         975 non-null    object\n",
      " 5   instructors         972 non-null    object\n",
      " 6   Level               975 non-null    object\n",
      " 7   subject             975 non-null    object\n",
      " 8   language            975 non-null    object\n",
      " 9   subtitles           972 non-null    object\n",
      " 10  course_effort       975 non-null    object\n",
      " 11  course_length       975 non-null    object\n",
      " 12  price               975 non-null    object\n",
      " 13  course_description  935 non-null    object\n",
      " 14  course_syllabus     417 non-null    object\n",
      " 15  course_url          975 non-null    object\n",
      "dtypes: object(16)\n",
      "memory usage: 122.0+ KB\n"
     ]
    }
   ],
   "source": [
    "edx_courses.info()"
   ]
  },
  {
   "cell_type": "code",
   "execution_count": 462,
   "metadata": {},
   "outputs": [],
   "source": [
    "edx_courses.drop_duplicates(inplace=True)"
   ]
  },
  {
   "cell_type": "code",
   "execution_count": 463,
   "metadata": {},
   "outputs": [
    {
     "data": {
      "text/html": [
       "<div>\n",
       "<style scoped>\n",
       "    .dataframe tbody tr th:only-of-type {\n",
       "        vertical-align: middle;\n",
       "    }\n",
       "\n",
       "    .dataframe tbody tr th {\n",
       "        vertical-align: top;\n",
       "    }\n",
       "\n",
       "    .dataframe thead th {\n",
       "        text-align: right;\n",
       "    }\n",
       "</style>\n",
       "<table border=\"1\" class=\"dataframe\">\n",
       "  <thead>\n",
       "    <tr style=\"text-align: right;\">\n",
       "      <th></th>\n",
       "      <th>title</th>\n",
       "      <th>n_enrolled</th>\n",
       "      <th>course_type</th>\n",
       "      <th>institution</th>\n",
       "      <th>Level</th>\n",
       "      <th>subject</th>\n",
       "      <th>language</th>\n",
       "      <th>subtitles</th>\n",
       "      <th>course_effort</th>\n",
       "      <th>course_length</th>\n",
       "      <th>price</th>\n",
       "    </tr>\n",
       "  </thead>\n",
       "  <tbody>\n",
       "    <tr>\n",
       "      <th>0</th>\n",
       "      <td>How to Learn Online</td>\n",
       "      <td>124,980</td>\n",
       "      <td>Self-paced on your time</td>\n",
       "      <td>edX</td>\n",
       "      <td>Introductory</td>\n",
       "      <td>Education &amp; Teacher Training</td>\n",
       "      <td>English</td>\n",
       "      <td>English</td>\n",
       "      <td>2–3 hours per week</td>\n",
       "      <td>2 Weeks</td>\n",
       "      <td>FREE-Add a Verified Certificate for $49 USD</td>\n",
       "    </tr>\n",
       "    <tr>\n",
       "      <th>1</th>\n",
       "      <td>Programming for Everybody (Getting Started wit...</td>\n",
       "      <td>293,864</td>\n",
       "      <td>Self-paced on your time</td>\n",
       "      <td>The University of Michigan</td>\n",
       "      <td>Introductory</td>\n",
       "      <td>Computer Science</td>\n",
       "      <td>English</td>\n",
       "      <td>English</td>\n",
       "      <td>2–4 hours per week</td>\n",
       "      <td>7 Weeks</td>\n",
       "      <td>FREE-Add a Verified Certificate for $49 USD</td>\n",
       "    </tr>\n",
       "    <tr>\n",
       "      <th>2</th>\n",
       "      <td>CS50's Introduction to Computer Science</td>\n",
       "      <td>2,442,271</td>\n",
       "      <td>Self-paced on your time</td>\n",
       "      <td>Harvard University</td>\n",
       "      <td>Introductory</td>\n",
       "      <td>Computer Science</td>\n",
       "      <td>English</td>\n",
       "      <td>English</td>\n",
       "      <td>6–18 hours per week</td>\n",
       "      <td>12 Weeks</td>\n",
       "      <td>FREE-Add a Verified Certificate for $90 USD</td>\n",
       "    </tr>\n",
       "    <tr>\n",
       "      <th>3</th>\n",
       "      <td>The Analytics Edge</td>\n",
       "      <td>129,555</td>\n",
       "      <td>Instructor-led on a course schedule</td>\n",
       "      <td>Massachusetts Institute of Technology</td>\n",
       "      <td>Intermediate</td>\n",
       "      <td>Data Analysis &amp; Statistics</td>\n",
       "      <td>English</td>\n",
       "      <td>English</td>\n",
       "      <td>10–15 hours per week</td>\n",
       "      <td>13 Weeks</td>\n",
       "      <td>FREE-Add a Verified Certificate for $199 USD</td>\n",
       "    </tr>\n",
       "    <tr>\n",
       "      <th>4</th>\n",
       "      <td>Marketing Analytics: Marketing Measurement Str...</td>\n",
       "      <td>81,140</td>\n",
       "      <td>Self-paced on your time</td>\n",
       "      <td>University of California, Berkeley</td>\n",
       "      <td>Introductory</td>\n",
       "      <td>Computer Science</td>\n",
       "      <td>English</td>\n",
       "      <td>English</td>\n",
       "      <td>5–7 hours per week</td>\n",
       "      <td>4 Weeks</td>\n",
       "      <td>FREE-Add a Verified Certificate for $249 USD</td>\n",
       "    </tr>\n",
       "  </tbody>\n",
       "</table>\n",
       "</div>"
      ],
      "text/plain": [
       "                                               title n_enrolled  \\\n",
       "0                                How to Learn Online    124,980   \n",
       "1  Programming for Everybody (Getting Started wit...    293,864   \n",
       "2            CS50's Introduction to Computer Science  2,442,271   \n",
       "3                                 The Analytics Edge    129,555   \n",
       "4  Marketing Analytics: Marketing Measurement Str...     81,140   \n",
       "\n",
       "                           course_type                            institution  \\\n",
       "0              Self-paced on your time                                    edX   \n",
       "1              Self-paced on your time             The University of Michigan   \n",
       "2              Self-paced on your time                     Harvard University   \n",
       "3  Instructor-led on a course schedule  Massachusetts Institute of Technology   \n",
       "4              Self-paced on your time     University of California, Berkeley   \n",
       "\n",
       "          Level                       subject language subtitles  \\\n",
       "0  Introductory  Education & Teacher Training  English   English   \n",
       "1  Introductory              Computer Science  English   English   \n",
       "2  Introductory              Computer Science  English   English   \n",
       "3  Intermediate    Data Analysis & Statistics  English   English   \n",
       "4  Introductory              Computer Science  English   English   \n",
       "\n",
       "          course_effort course_length  \\\n",
       "0    2–3 hours per week       2 Weeks   \n",
       "1    2–4 hours per week       7 Weeks   \n",
       "2   6–18 hours per week      12 Weeks   \n",
       "3  10–15 hours per week      13 Weeks   \n",
       "4    5–7 hours per week       4 Weeks   \n",
       "\n",
       "                                          price  \n",
       "0   FREE-Add a Verified Certificate for $49 USD  \n",
       "1   FREE-Add a Verified Certificate for $49 USD  \n",
       "2   FREE-Add a Verified Certificate for $90 USD  \n",
       "3  FREE-Add a Verified Certificate for $199 USD  \n",
       "4  FREE-Add a Verified Certificate for $249 USD  "
      ]
     },
     "execution_count": 463,
     "metadata": {},
     "output_type": "execute_result"
    }
   ],
   "source": [
    "edx_courses.drop(['summary','instructors','course_description','course_syllabus','course_url'], axis=1,inplace=True)\n",
    "edx_courses.head()"
   ]
  },
  {
   "cell_type": "code",
   "execution_count": 465,
   "metadata": {},
   "outputs": [
    {
     "data": {
      "text/plain": [
       "120"
      ]
     },
     "execution_count": 465,
     "metadata": {},
     "output_type": "execute_result"
    }
   ],
   "source": [
    "edx_courses['n_enrolled'].isna().sum()"
   ]
  },
  {
   "attachments": {},
   "cell_type": "markdown",
   "metadata": {},
   "source": [
    "Se rellenan los campos nulos de la columna 'n_enrolled' para poder cambiar el tipo de dato a entero."
   ]
  },
  {
   "cell_type": "code",
   "execution_count": 468,
   "metadata": {},
   "outputs": [],
   "source": [
    "edx_courses['n_enrolled'] = edx_courses['n_enrolled'].fillna('0')\n",
    "edx_courses['n_enrolled'] = edx_courses['n_enrolled'].str.replace(',', '')\n",
    "edx_courses['n_enrolled'] = edx_courses['n_enrolled'].astype('int32')"
   ]
  },
  {
   "cell_type": "code",
   "execution_count": 469,
   "metadata": {},
   "outputs": [
    {
     "name": "stdout",
     "output_type": "stream",
     "text": [
      "<class 'pandas.core.frame.DataFrame'>\n",
      "Int64Index: 974 entries, 0 to 974\n",
      "Data columns (total 11 columns):\n",
      " #   Column         Non-Null Count  Dtype \n",
      "---  ------         --------------  ----- \n",
      " 0   title          974 non-null    object\n",
      " 1   n_enrolled     974 non-null    int32 \n",
      " 2   course_type    974 non-null    object\n",
      " 3   institution    974 non-null    object\n",
      " 4   Level          974 non-null    object\n",
      " 5   subject        974 non-null    object\n",
      " 6   language       974 non-null    object\n",
      " 7   subtitles      971 non-null    object\n",
      " 8   course_effort  974 non-null    object\n",
      " 9   course_length  974 non-null    object\n",
      " 10  price          974 non-null    object\n",
      "dtypes: int32(1), object(10)\n",
      "memory usage: 87.5+ KB\n"
     ]
    }
   ],
   "source": [
    "edx_courses.info()"
   ]
  },
  {
   "attachments": {},
   "cell_type": "markdown",
   "metadata": {},
   "source": [
    "Se hace la detección y asignación de idiomas a cada curso, tanto para la columna 'language' como para la columna 'subtitles'."
   ]
  },
  {
   "cell_type": "code",
   "execution_count": 470,
   "metadata": {},
   "outputs": [
    {
     "data": {
      "text/plain": [
       "['English',\n",
       " 'Español',\n",
       " 'Italiano',\n",
       " '日本語',\n",
       " 'Français',\n",
       " '中文',\n",
       " 'Português',\n",
       " 'اللغة العربية',\n",
       " 'Deutsch']"
      ]
     },
     "execution_count": 470,
     "metadata": {},
     "output_type": "execute_result"
    }
   ],
   "source": [
    "idiomas = list(edx_courses['language'].unique())\n",
    "idiomas"
   ]
  },
  {
   "cell_type": "code",
   "execution_count": 471,
   "metadata": {},
   "outputs": [
    {
     "name": "stdout",
     "output_type": "stream",
     "text": [
      "['en', 'es', 'it', 'zh-tw', 'fr', 'zh-cn', 'pt', 'ar', 'de']\n"
     ]
    }
   ],
   "source": [
    "lista_idiomas=[]\n",
    "for i in idiomas:\n",
    "    idioma = detect(i)\n",
    "    lista_idiomas.append(idioma)\n",
    "print (lista_idiomas)"
   ]
  },
  {
   "attachments": {},
   "cell_type": "markdown",
   "metadata": {},
   "source": [
    "**NOTA:** 'zh-tw' y 'zh-cn' son dos variantes diferentes de Chino, pero para fines de este estudio se decidió colocarlas como una sola."
   ]
  },
  {
   "cell_type": "code",
   "execution_count": 472,
   "metadata": {},
   "outputs": [],
   "source": [
    "idioma_cambio = ['Inglés','Español', 'Italiano', 'Chino', 'Francés', 'Chino', 'Portugués', 'Árabe', 'Alemán']"
   ]
  },
  {
   "cell_type": "code",
   "execution_count": 473,
   "metadata": {},
   "outputs": [],
   "source": [
    "edx_courses['language'].replace(to_replace=idiomas, value=idioma_cambio, inplace=True)\n",
    "edx_courses['subtitles'].replace(idiomas, idioma_cambio, regex=True, inplace=True)"
   ]
  },
  {
   "attachments": {},
   "cell_type": "markdown",
   "metadata": {},
   "source": [
    "Se observó que todos los cursos ofrecidos por Edx son gratuitos, sin embargo, si se quiere obtener la certificación se debe pagar un costo extra. Por ello se extrajo el valor del certificado en una columna aparte y se eliminó la columna original 'price'."
   ]
  },
  {
   "cell_type": "code",
   "execution_count": 474,
   "metadata": {},
   "outputs": [
    {
     "data": {
      "text/html": [
       "<div>\n",
       "<style scoped>\n",
       "    .dataframe tbody tr th:only-of-type {\n",
       "        vertical-align: middle;\n",
       "    }\n",
       "\n",
       "    .dataframe tbody tr th {\n",
       "        vertical-align: top;\n",
       "    }\n",
       "\n",
       "    .dataframe thead th {\n",
       "        text-align: right;\n",
       "    }\n",
       "</style>\n",
       "<table border=\"1\" class=\"dataframe\">\n",
       "  <thead>\n",
       "    <tr style=\"text-align: right;\">\n",
       "      <th></th>\n",
       "      <th>title</th>\n",
       "      <th>n_enrolled</th>\n",
       "      <th>course_type</th>\n",
       "      <th>institution</th>\n",
       "      <th>Level</th>\n",
       "      <th>subject</th>\n",
       "      <th>language</th>\n",
       "      <th>subtitles</th>\n",
       "      <th>course_effort</th>\n",
       "      <th>course_length</th>\n",
       "      <th>price</th>\n",
       "      <th>precio_certificado</th>\n",
       "    </tr>\n",
       "  </thead>\n",
       "  <tbody>\n",
       "    <tr>\n",
       "      <th>0</th>\n",
       "      <td>How to Learn Online</td>\n",
       "      <td>124980</td>\n",
       "      <td>Self-paced on your time</td>\n",
       "      <td>edX</td>\n",
       "      <td>Introductory</td>\n",
       "      <td>Education &amp; Teacher Training</td>\n",
       "      <td>Inglés</td>\n",
       "      <td>Inglés</td>\n",
       "      <td>2–3 hours per week</td>\n",
       "      <td>2 Weeks</td>\n",
       "      <td>FREE-Add a Verified Certificate for $49 USD</td>\n",
       "      <td>49</td>\n",
       "    </tr>\n",
       "    <tr>\n",
       "      <th>1</th>\n",
       "      <td>Programming for Everybody (Getting Started wit...</td>\n",
       "      <td>293864</td>\n",
       "      <td>Self-paced on your time</td>\n",
       "      <td>The University of Michigan</td>\n",
       "      <td>Introductory</td>\n",
       "      <td>Computer Science</td>\n",
       "      <td>Inglés</td>\n",
       "      <td>Inglés</td>\n",
       "      <td>2–4 hours per week</td>\n",
       "      <td>7 Weeks</td>\n",
       "      <td>FREE-Add a Verified Certificate for $49 USD</td>\n",
       "      <td>49</td>\n",
       "    </tr>\n",
       "    <tr>\n",
       "      <th>2</th>\n",
       "      <td>CS50's Introduction to Computer Science</td>\n",
       "      <td>2442271</td>\n",
       "      <td>Self-paced on your time</td>\n",
       "      <td>Harvard University</td>\n",
       "      <td>Introductory</td>\n",
       "      <td>Computer Science</td>\n",
       "      <td>Inglés</td>\n",
       "      <td>Inglés</td>\n",
       "      <td>6–18 hours per week</td>\n",
       "      <td>12 Weeks</td>\n",
       "      <td>FREE-Add a Verified Certificate for $90 USD</td>\n",
       "      <td>90</td>\n",
       "    </tr>\n",
       "    <tr>\n",
       "      <th>3</th>\n",
       "      <td>The Analytics Edge</td>\n",
       "      <td>129555</td>\n",
       "      <td>Instructor-led on a course schedule</td>\n",
       "      <td>Massachusetts Institute of Technology</td>\n",
       "      <td>Intermediate</td>\n",
       "      <td>Data Analysis &amp; Statistics</td>\n",
       "      <td>Inglés</td>\n",
       "      <td>Inglés</td>\n",
       "      <td>10–15 hours per week</td>\n",
       "      <td>13 Weeks</td>\n",
       "      <td>FREE-Add a Verified Certificate for $199 USD</td>\n",
       "      <td>199</td>\n",
       "    </tr>\n",
       "    <tr>\n",
       "      <th>4</th>\n",
       "      <td>Marketing Analytics: Marketing Measurement Str...</td>\n",
       "      <td>81140</td>\n",
       "      <td>Self-paced on your time</td>\n",
       "      <td>University of California, Berkeley</td>\n",
       "      <td>Introductory</td>\n",
       "      <td>Computer Science</td>\n",
       "      <td>Inglés</td>\n",
       "      <td>Inglés</td>\n",
       "      <td>5–7 hours per week</td>\n",
       "      <td>4 Weeks</td>\n",
       "      <td>FREE-Add a Verified Certificate for $249 USD</td>\n",
       "      <td>249</td>\n",
       "    </tr>\n",
       "  </tbody>\n",
       "</table>\n",
       "</div>"
      ],
      "text/plain": [
       "                                               title  n_enrolled  \\\n",
       "0                                How to Learn Online      124980   \n",
       "1  Programming for Everybody (Getting Started wit...      293864   \n",
       "2            CS50's Introduction to Computer Science     2442271   \n",
       "3                                 The Analytics Edge      129555   \n",
       "4  Marketing Analytics: Marketing Measurement Str...       81140   \n",
       "\n",
       "                           course_type                            institution  \\\n",
       "0              Self-paced on your time                                    edX   \n",
       "1              Self-paced on your time             The University of Michigan   \n",
       "2              Self-paced on your time                     Harvard University   \n",
       "3  Instructor-led on a course schedule  Massachusetts Institute of Technology   \n",
       "4              Self-paced on your time     University of California, Berkeley   \n",
       "\n",
       "          Level                       subject language subtitles  \\\n",
       "0  Introductory  Education & Teacher Training   Inglés    Inglés   \n",
       "1  Introductory              Computer Science   Inglés    Inglés   \n",
       "2  Introductory              Computer Science   Inglés    Inglés   \n",
       "3  Intermediate    Data Analysis & Statistics   Inglés    Inglés   \n",
       "4  Introductory              Computer Science   Inglés    Inglés   \n",
       "\n",
       "          course_effort course_length  \\\n",
       "0    2–3 hours per week       2 Weeks   \n",
       "1    2–4 hours per week       7 Weeks   \n",
       "2   6–18 hours per week      12 Weeks   \n",
       "3  10–15 hours per week      13 Weeks   \n",
       "4    5–7 hours per week       4 Weeks   \n",
       "\n",
       "                                          price precio_certificado  \n",
       "0   FREE-Add a Verified Certificate for $49 USD                 49  \n",
       "1   FREE-Add a Verified Certificate for $49 USD                 49  \n",
       "2   FREE-Add a Verified Certificate for $90 USD                 90  \n",
       "3  FREE-Add a Verified Certificate for $199 USD                199  \n",
       "4  FREE-Add a Verified Certificate for $249 USD                249  "
      ]
     },
     "execution_count": 474,
     "metadata": {},
     "output_type": "execute_result"
    }
   ],
   "source": [
    "edx_courses['precio_certificado'] = edx_courses['price'].str.extract('(\\d+)')\n",
    "edx_courses['precio_certificado'] = edx_courses['precio_certificado'].astype('int32')\n",
    "edx_courses.head()"
   ]
  },
  {
   "cell_type": "code",
   "execution_count": 475,
   "metadata": {},
   "outputs": [
    {
     "data": {
      "text/html": [
       "<div>\n",
       "<style scoped>\n",
       "    .dataframe tbody tr th:only-of-type {\n",
       "        vertical-align: middle;\n",
       "    }\n",
       "\n",
       "    .dataframe tbody tr th {\n",
       "        vertical-align: top;\n",
       "    }\n",
       "\n",
       "    .dataframe thead th {\n",
       "        text-align: right;\n",
       "    }\n",
       "</style>\n",
       "<table border=\"1\" class=\"dataframe\">\n",
       "  <thead>\n",
       "    <tr style=\"text-align: right;\">\n",
       "      <th></th>\n",
       "      <th>title</th>\n",
       "      <th>n_enrolled</th>\n",
       "      <th>course_type</th>\n",
       "      <th>institution</th>\n",
       "      <th>Level</th>\n",
       "      <th>subject</th>\n",
       "      <th>language</th>\n",
       "      <th>subtitles</th>\n",
       "      <th>course_effort</th>\n",
       "      <th>course_length</th>\n",
       "      <th>precio_certificado</th>\n",
       "    </tr>\n",
       "  </thead>\n",
       "  <tbody>\n",
       "    <tr>\n",
       "      <th>0</th>\n",
       "      <td>How to Learn Online</td>\n",
       "      <td>124980</td>\n",
       "      <td>Self-paced on your time</td>\n",
       "      <td>edX</td>\n",
       "      <td>Introductory</td>\n",
       "      <td>Education &amp; Teacher Training</td>\n",
       "      <td>Inglés</td>\n",
       "      <td>Inglés</td>\n",
       "      <td>2–3 hours per week</td>\n",
       "      <td>2 Weeks</td>\n",
       "      <td>49</td>\n",
       "    </tr>\n",
       "    <tr>\n",
       "      <th>1</th>\n",
       "      <td>Programming for Everybody (Getting Started wit...</td>\n",
       "      <td>293864</td>\n",
       "      <td>Self-paced on your time</td>\n",
       "      <td>The University of Michigan</td>\n",
       "      <td>Introductory</td>\n",
       "      <td>Computer Science</td>\n",
       "      <td>Inglés</td>\n",
       "      <td>Inglés</td>\n",
       "      <td>2–4 hours per week</td>\n",
       "      <td>7 Weeks</td>\n",
       "      <td>49</td>\n",
       "    </tr>\n",
       "    <tr>\n",
       "      <th>2</th>\n",
       "      <td>CS50's Introduction to Computer Science</td>\n",
       "      <td>2442271</td>\n",
       "      <td>Self-paced on your time</td>\n",
       "      <td>Harvard University</td>\n",
       "      <td>Introductory</td>\n",
       "      <td>Computer Science</td>\n",
       "      <td>Inglés</td>\n",
       "      <td>Inglés</td>\n",
       "      <td>6–18 hours per week</td>\n",
       "      <td>12 Weeks</td>\n",
       "      <td>90</td>\n",
       "    </tr>\n",
       "    <tr>\n",
       "      <th>3</th>\n",
       "      <td>The Analytics Edge</td>\n",
       "      <td>129555</td>\n",
       "      <td>Instructor-led on a course schedule</td>\n",
       "      <td>Massachusetts Institute of Technology</td>\n",
       "      <td>Intermediate</td>\n",
       "      <td>Data Analysis &amp; Statistics</td>\n",
       "      <td>Inglés</td>\n",
       "      <td>Inglés</td>\n",
       "      <td>10–15 hours per week</td>\n",
       "      <td>13 Weeks</td>\n",
       "      <td>199</td>\n",
       "    </tr>\n",
       "    <tr>\n",
       "      <th>4</th>\n",
       "      <td>Marketing Analytics: Marketing Measurement Str...</td>\n",
       "      <td>81140</td>\n",
       "      <td>Self-paced on your time</td>\n",
       "      <td>University of California, Berkeley</td>\n",
       "      <td>Introductory</td>\n",
       "      <td>Computer Science</td>\n",
       "      <td>Inglés</td>\n",
       "      <td>Inglés</td>\n",
       "      <td>5–7 hours per week</td>\n",
       "      <td>4 Weeks</td>\n",
       "      <td>249</td>\n",
       "    </tr>\n",
       "  </tbody>\n",
       "</table>\n",
       "</div>"
      ],
      "text/plain": [
       "                                               title  n_enrolled  \\\n",
       "0                                How to Learn Online      124980   \n",
       "1  Programming for Everybody (Getting Started wit...      293864   \n",
       "2            CS50's Introduction to Computer Science     2442271   \n",
       "3                                 The Analytics Edge      129555   \n",
       "4  Marketing Analytics: Marketing Measurement Str...       81140   \n",
       "\n",
       "                           course_type                            institution  \\\n",
       "0              Self-paced on your time                                    edX   \n",
       "1              Self-paced on your time             The University of Michigan   \n",
       "2              Self-paced on your time                     Harvard University   \n",
       "3  Instructor-led on a course schedule  Massachusetts Institute of Technology   \n",
       "4              Self-paced on your time     University of California, Berkeley   \n",
       "\n",
       "          Level                       subject language subtitles  \\\n",
       "0  Introductory  Education & Teacher Training   Inglés    Inglés   \n",
       "1  Introductory              Computer Science   Inglés    Inglés   \n",
       "2  Introductory              Computer Science   Inglés    Inglés   \n",
       "3  Intermediate    Data Analysis & Statistics   Inglés    Inglés   \n",
       "4  Introductory              Computer Science   Inglés    Inglés   \n",
       "\n",
       "          course_effort course_length precio_certificado  \n",
       "0    2–3 hours per week       2 Weeks                 49  \n",
       "1    2–4 hours per week       7 Weeks                 49  \n",
       "2   6–18 hours per week      12 Weeks                 90  \n",
       "3  10–15 hours per week      13 Weeks                199  \n",
       "4    5–7 hours per week       4 Weeks                249  "
      ]
     },
     "execution_count": 475,
     "metadata": {},
     "output_type": "execute_result"
    }
   ],
   "source": [
    "edx_courses.drop(['price'], axis=1, inplace=True)\n",
    "edx_courses.head()"
   ]
  },
  {
   "cell_type": "code",
   "execution_count": 480,
   "metadata": {},
   "outputs": [],
   "source": [
    "# Se exporta el csv para su uso en Power BI\n",
    "edx_courses.to_csv('edx_courses_transformado.csv')"
   ]
  },
  {
   "attachments": {},
   "cell_type": "markdown",
   "metadata": {},
   "source": [
    "Finalmente se obtuvieron algunas visualizaciones para el ánalisis de datos."
   ]
  },
  {
   "cell_type": "code",
   "execution_count": 311,
   "metadata": {},
   "outputs": [
    {
     "data": {
      "text/plain": [
       "<AxesSubplot: xlabel='n_enrolled'>"
      ]
     },
     "execution_count": 311,
     "metadata": {},
     "output_type": "execute_result"
    },
    {
     "data": {
      "image/png": "[encoded data removed]",
      "text/plain": [
       "<Figure size 640x480 with 1 Axes>"
      ]
     },
     "metadata": {},
     "output_type": "display_data"
    }
   ],
   "source": [
    "sns.boxplot(data=edx_courses[edx_courses['n_enrolled'] >= 5001], x='n_enrolled')"
   ]
  },
  {
   "cell_type": "code",
   "execution_count": 312,
   "metadata": {},
   "outputs": [
    {
     "data": {
      "text/html": [
       "<div>\n",
       "<style scoped>\n",
       "    .dataframe tbody tr th:only-of-type {\n",
       "        vertical-align: middle;\n",
       "    }\n",
       "\n",
       "    .dataframe tbody tr th {\n",
       "        vertical-align: top;\n",
       "    }\n",
       "\n",
       "    .dataframe thead th {\n",
       "        text-align: right;\n",
       "    }\n",
       "</style>\n",
       "<table border=\"1\" class=\"dataframe\">\n",
       "  <thead>\n",
       "    <tr style=\"text-align: right;\">\n",
       "      <th></th>\n",
       "      <th>n_enrolled</th>\n",
       "      <th>precio_certificado</th>\n",
       "    </tr>\n",
       "  </thead>\n",
       "  <tbody>\n",
       "    <tr>\n",
       "      <th>count</th>\n",
       "      <td>8.540000e+02</td>\n",
       "      <td>854.000000</td>\n",
       "    </tr>\n",
       "    <tr>\n",
       "      <th>mean</th>\n",
       "      <td>5.320879e+04</td>\n",
       "      <td>101.642857</td>\n",
       "    </tr>\n",
       "    <tr>\n",
       "      <th>std</th>\n",
       "      <td>1.190911e+05</td>\n",
       "      <td>70.640447</td>\n",
       "    </tr>\n",
       "    <tr>\n",
       "      <th>min</th>\n",
       "      <td>5.001000e+03</td>\n",
       "      <td>5.000000</td>\n",
       "    </tr>\n",
       "    <tr>\n",
       "      <th>25%</th>\n",
       "      <td>1.176425e+04</td>\n",
       "      <td>49.000000</td>\n",
       "    </tr>\n",
       "    <tr>\n",
       "      <th>50%</th>\n",
       "      <td>2.411900e+04</td>\n",
       "      <td>79.000000</td>\n",
       "    </tr>\n",
       "    <tr>\n",
       "      <th>75%</th>\n",
       "      <td>5.465250e+04</td>\n",
       "      <td>149.000000</td>\n",
       "    </tr>\n",
       "    <tr>\n",
       "      <th>max</th>\n",
       "      <td>2.442271e+06</td>\n",
       "      <td>450.000000</td>\n",
       "    </tr>\n",
       "  </tbody>\n",
       "</table>\n",
       "</div>"
      ],
      "text/plain": [
       "         n_enrolled  precio_certificado\n",
       "count  8.540000e+02          854.000000\n",
       "mean   5.320879e+04          101.642857\n",
       "std    1.190911e+05           70.640447\n",
       "min    5.001000e+03            5.000000\n",
       "25%    1.176425e+04           49.000000\n",
       "50%    2.411900e+04           79.000000\n",
       "75%    5.465250e+04          149.000000\n",
       "max    2.442271e+06          450.000000"
      ]
     },
     "execution_count": 312,
     "metadata": {},
     "output_type": "execute_result"
    }
   ],
   "source": [
    "edx_courses[edx_courses['n_enrolled'] >= 5001].describe()"
   ]
  },
  {
   "cell_type": "code",
   "execution_count": 313,
   "metadata": {},
   "outputs": [
    {
     "data": {
      "text/plain": [
       "<AxesSubplot: xlabel='n_enrolled'>"
      ]
     },
     "execution_count": 313,
     "metadata": {},
     "output_type": "execute_result"
    },
    {
     "data": {
      "image/png": "[encoded data removed]",
      "text/plain": [
       "<Figure size 640x480 with 1 Axes>"
      ]
     },
     "metadata": {},
     "output_type": "display_data"
    }
   ],
   "source": [
    "sns.boxplot(data=edx_courses[edx_courses['n_enrolled'] < 54652], x='n_enrolled')"
   ]
  },
  {
   "cell_type": "code",
   "execution_count": 314,
   "metadata": {},
   "outputs": [
    {
     "data": {
      "text/plain": [
       "<AxesSubplot: xlabel='n_enrolled', ylabel='Count'>"
      ]
     },
     "execution_count": 314,
     "metadata": {},
     "output_type": "execute_result"
    },
    {
     "data": {
      "image/png": "[encoded data removed]",
      "text/plain": [
       "<Figure size 640x480 with 1 Axes>"
      ]
     },
     "metadata": {},
     "output_type": "display_data"
    }
   ],
   "source": [
    "# La mayoría de cursos tienen menos de 10000 inscritos\n",
    "sns.histplot(data = edx_courses[edx_courses['n_enrolled'].between(5001,54652)], x='n_enrolled')"
   ]
  },
  {
   "cell_type": "code",
   "execution_count": 290,
   "metadata": {},
   "outputs": [
    {
     "data": {
      "text/plain": [
       "Harvard University                                                    103\n",
       "Universitat Politècnica de Valencia                                    47\n",
       "Massachusetts Institute of Technology                                  41\n",
       "Delft University of Technology                                         30\n",
       "IBM                                                                    30\n",
       "                                                                     ... \n",
       "The University of Tokyo                                                 1\n",
       "Educational Testing Service                                             1\n",
       "The National University of Singapore                                    1\n",
       "University of Oxford                                                    1\n",
       "University of Maryland Global Campus-University System of Maryland      1\n",
       "Name: institution, Length: 111, dtype: int64"
      ]
     },
     "execution_count": 290,
     "metadata": {},
     "output_type": "execute_result"
    }
   ],
   "source": [
    "# Harvard es la universidad que más cursos imparte.\n",
    "edx_courses['institution'].value_counts()"
   ]
  },
  {
   "cell_type": "code",
   "execution_count": 34,
   "metadata": {},
   "outputs": [
    {
     "data": {
      "text/plain": [
       "Universitat Politècnica de Valencia                                   13\n",
       "IBM                                                                   10\n",
       "Stanford University                                                    8\n",
       "University of California, Berkeley                                     8\n",
       "The Linux Foundation                                                   8\n",
       "Harvard University                                                     8\n",
       "Amazon Web Services                                                    7\n",
       "Columbia University                                                    7\n",
       "Curtin University                                                      6\n",
       "Dartmouth_IMTx-Dartmouth College-IMT                                   6\n",
       "The World Wide Web Consortium (W3C)                                    5\n",
       "The Georgia Institute of Technology                                    5\n",
       "IITBombay                                                              5\n",
       "University of Washington                                               5\n",
       "University of British Columbia                                         4\n",
       "The University of California, San Diego                                4\n",
       "The University of Texas at Austin                                      4\n",
       "The University of Michigan                                             4\n",
       "University of Adelaide                                                 4\n",
       "University of Pennsylvania                                             4\n",
       "New York University                                                    4\n",
       "Universidad Autónoma de Madrid                                         3\n",
       "Universidades Anáhuac                                                  3\n",
       "Western Governors University                                           3\n",
       "The Hong Kong University of Science and Technology                     3\n",
       "Delft University of Technology                                         2\n",
       "ETH Zurich                                                             2\n",
       "Red Hat                                                                2\n",
       "Waseda University                                                      2\n",
       "Universidad Carlos III de Madrid                                       2\n",
       "IsraelX-Tel Aviv University                                            2\n",
       "Massachusetts Institute of Technology                                  2\n",
       "University of Hong Kong                                                1\n",
       "École polytechnique fédérale de Lausanne                               1\n",
       "Universidad Galileo                                                    1\n",
       "Universidad del Rosario                                                1\n",
       "Université de Montréal                                                 1\n",
       "Technische Universität München                                         1\n",
       "IMT                                                                    1\n",
       "KU Leuven University                                                   1\n",
       "Boston University                                                      1\n",
       "Arm Education                                                          1\n",
       "University System of Maryland-University of Maryland Global Campus     1\n",
       "Name: institution, dtype: int64"
      ]
     },
     "execution_count": 34,
     "metadata": {},
     "output_type": "execute_result"
    }
   ],
   "source": [
    "# La Universitat Politècnica de Valencia es la que más cursos de computer Science imparte.\n",
    "edx_courses.loc[(edx_courses['subject'] == 'Computer Science')]['institution'].value_counts()"
   ]
  },
  {
   "attachments": {},
   "cell_type": "markdown",
   "metadata": {},
   "source": [
    "## - Udemy"
   ]
  },
  {
   "attachments": {},
   "cell_type": "markdown",
   "metadata": {},
   "source": [
    "Inicialmente se ingesta el dataset, se obtiene información general de él, se eliminan duplicados y se eliminan columnas innecesarias."
   ]
  },
  {
   "cell_type": "code",
   "execution_count": 3,
   "metadata": {},
   "outputs": [
    {
     "data": {
      "text/html": [
       "<div>\n",
       "<style scoped>\n",
       "    .dataframe tbody tr th:only-of-type {\n",
       "        vertical-align: middle;\n",
       "    }\n",
       "\n",
       "    .dataframe tbody tr th {\n",
       "        vertical-align: top;\n",
       "    }\n",
       "\n",
       "    .dataframe thead th {\n",
       "        text-align: right;\n",
       "    }\n",
       "</style>\n",
       "<table border=\"1\" class=\"dataframe\">\n",
       "  <thead>\n",
       "    <tr style=\"text-align: right;\">\n",
       "      <th></th>\n",
       "      <th>course_id</th>\n",
       "      <th>course_title</th>\n",
       "      <th>url</th>\n",
       "      <th>is_paid</th>\n",
       "      <th>price</th>\n",
       "      <th>num_subscribers</th>\n",
       "      <th>num_reviews</th>\n",
       "      <th>num_lectures</th>\n",
       "      <th>level</th>\n",
       "      <th>content_duration</th>\n",
       "      <th>published_timestamp</th>\n",
       "      <th>subject</th>\n",
       "    </tr>\n",
       "  </thead>\n",
       "  <tbody>\n",
       "    <tr>\n",
       "      <th>0</th>\n",
       "      <td>1070968</td>\n",
       "      <td>Ultimate Investment Banking Course</td>\n",
       "      <td>https://www.udemy.com/ultimate-investment-bank...</td>\n",
       "      <td>True</td>\n",
       "      <td>200</td>\n",
       "      <td>2147</td>\n",
       "      <td>23</td>\n",
       "      <td>51</td>\n",
       "      <td>All Levels</td>\n",
       "      <td>1.5</td>\n",
       "      <td>2017-01-18T20:58:58Z</td>\n",
       "      <td>Business Finance</td>\n",
       "    </tr>\n",
       "    <tr>\n",
       "      <th>1</th>\n",
       "      <td>1113822</td>\n",
       "      <td>Complete GST Course &amp; Certification - Grow You...</td>\n",
       "      <td>https://www.udemy.com/goods-and-services-tax/</td>\n",
       "      <td>True</td>\n",
       "      <td>75</td>\n",
       "      <td>2792</td>\n",
       "      <td>923</td>\n",
       "      <td>274</td>\n",
       "      <td>All Levels</td>\n",
       "      <td>39.0</td>\n",
       "      <td>2017-03-09T16:34:20Z</td>\n",
       "      <td>Business Finance</td>\n",
       "    </tr>\n",
       "    <tr>\n",
       "      <th>2</th>\n",
       "      <td>1006314</td>\n",
       "      <td>Financial Modeling for Business Analysts and C...</td>\n",
       "      <td>https://www.udemy.com/financial-modeling-for-b...</td>\n",
       "      <td>True</td>\n",
       "      <td>45</td>\n",
       "      <td>2174</td>\n",
       "      <td>74</td>\n",
       "      <td>51</td>\n",
       "      <td>Intermediate Level</td>\n",
       "      <td>2.5</td>\n",
       "      <td>2016-12-19T19:26:30Z</td>\n",
       "      <td>Business Finance</td>\n",
       "    </tr>\n",
       "    <tr>\n",
       "      <th>3</th>\n",
       "      <td>1210588</td>\n",
       "      <td>Beginner to Pro - Financial Analysis in Excel ...</td>\n",
       "      <td>https://www.udemy.com/complete-excel-finance-c...</td>\n",
       "      <td>True</td>\n",
       "      <td>95</td>\n",
       "      <td>2451</td>\n",
       "      <td>11</td>\n",
       "      <td>36</td>\n",
       "      <td>All Levels</td>\n",
       "      <td>3.0</td>\n",
       "      <td>2017-05-30T20:07:24Z</td>\n",
       "      <td>Business Finance</td>\n",
       "    </tr>\n",
       "    <tr>\n",
       "      <th>4</th>\n",
       "      <td>1011058</td>\n",
       "      <td>How To Maximize Your Profits Trading Options</td>\n",
       "      <td>https://www.udemy.com/how-to-maximize-your-pro...</td>\n",
       "      <td>True</td>\n",
       "      <td>200</td>\n",
       "      <td>1276</td>\n",
       "      <td>45</td>\n",
       "      <td>26</td>\n",
       "      <td>Intermediate Level</td>\n",
       "      <td>2.0</td>\n",
       "      <td>2016-12-13T14:57:18Z</td>\n",
       "      <td>Business Finance</td>\n",
       "    </tr>\n",
       "  </tbody>\n",
       "</table>\n",
       "</div>"
      ],
      "text/plain": [
       "   course_id                                       course_title  \\\n",
       "0    1070968                 Ultimate Investment Banking Course   \n",
       "1    1113822  Complete GST Course & Certification - Grow You...   \n",
       "2    1006314  Financial Modeling for Business Analysts and C...   \n",
       "3    1210588  Beginner to Pro - Financial Analysis in Excel ...   \n",
       "4    1011058       How To Maximize Your Profits Trading Options   \n",
       "\n",
       "                                                 url  is_paid  price  \\\n",
       "0  https://www.udemy.com/ultimate-investment-bank...     True    200   \n",
       "1      https://www.udemy.com/goods-and-services-tax/     True     75   \n",
       "2  https://www.udemy.com/financial-modeling-for-b...     True     45   \n",
       "3  https://www.udemy.com/complete-excel-finance-c...     True     95   \n",
       "4  https://www.udemy.com/how-to-maximize-your-pro...     True    200   \n",
       "\n",
       "   num_subscribers  num_reviews  num_lectures               level  \\\n",
       "0             2147           23            51          All Levels   \n",
       "1             2792          923           274          All Levels   \n",
       "2             2174           74            51  Intermediate Level   \n",
       "3             2451           11            36          All Levels   \n",
       "4             1276           45            26  Intermediate Level   \n",
       "\n",
       "   content_duration   published_timestamp           subject  \n",
       "0               1.5  2017-01-18T20:58:58Z  Business Finance  \n",
       "1              39.0  2017-03-09T16:34:20Z  Business Finance  \n",
       "2               2.5  2016-12-19T19:26:30Z  Business Finance  \n",
       "3               3.0  2017-05-30T20:07:24Z  Business Finance  \n",
       "4               2.0  2016-12-13T14:57:18Z  Business Finance  "
      ]
     },
     "execution_count": 3,
     "metadata": {},
     "output_type": "execute_result"
    }
   ],
   "source": [
    "udemy_courses = pd.read_csv('udemy_courses.csv')\n",
    "udemy_courses.head()"
   ]
  },
  {
   "cell_type": "code",
   "execution_count": 4,
   "metadata": {},
   "outputs": [
    {
     "name": "stdout",
     "output_type": "stream",
     "text": [
      "<class 'pandas.core.frame.DataFrame'>\n",
      "RangeIndex: 3678 entries, 0 to 3677\n",
      "Data columns (total 12 columns):\n",
      " #   Column               Non-Null Count  Dtype  \n",
      "---  ------               --------------  -----  \n",
      " 0   course_id            3678 non-null   int64  \n",
      " 1   course_title         3678 non-null   object \n",
      " 2   url                  3678 non-null   object \n",
      " 3   is_paid              3678 non-null   bool   \n",
      " 4   price                3678 non-null   int64  \n",
      " 5   num_subscribers      3678 non-null   int64  \n",
      " 6   num_reviews          3678 non-null   int64  \n",
      " 7   num_lectures         3678 non-null   int64  \n",
      " 8   level                3678 non-null   object \n",
      " 9   content_duration     3678 non-null   float64\n",
      " 10  published_timestamp  3678 non-null   object \n",
      " 11  subject              3678 non-null   object \n",
      "dtypes: bool(1), float64(1), int64(5), object(5)\n",
      "memory usage: 319.8+ KB\n"
     ]
    }
   ],
   "source": [
    "udemy_courses.info()"
   ]
  },
  {
   "cell_type": "code",
   "execution_count": 5,
   "metadata": {},
   "outputs": [],
   "source": [
    "udemy_courses.drop_duplicates(inplace=True)"
   ]
  },
  {
   "cell_type": "code",
   "execution_count": 6,
   "metadata": {},
   "outputs": [
    {
     "data": {
      "text/html": [
       "<div>\n",
       "<style scoped>\n",
       "    .dataframe tbody tr th:only-of-type {\n",
       "        vertical-align: middle;\n",
       "    }\n",
       "\n",
       "    .dataframe tbody tr th {\n",
       "        vertical-align: top;\n",
       "    }\n",
       "\n",
       "    .dataframe thead th {\n",
       "        text-align: right;\n",
       "    }\n",
       "</style>\n",
       "<table border=\"1\" class=\"dataframe\">\n",
       "  <thead>\n",
       "    <tr style=\"text-align: right;\">\n",
       "      <th></th>\n",
       "      <th>course_title</th>\n",
       "      <th>is_paid</th>\n",
       "      <th>price</th>\n",
       "      <th>num_subscribers</th>\n",
       "      <th>num_reviews</th>\n",
       "      <th>num_lectures</th>\n",
       "      <th>level</th>\n",
       "      <th>content_duration</th>\n",
       "      <th>published_timestamp</th>\n",
       "      <th>subject</th>\n",
       "    </tr>\n",
       "  </thead>\n",
       "  <tbody>\n",
       "    <tr>\n",
       "      <th>0</th>\n",
       "      <td>Ultimate Investment Banking Course</td>\n",
       "      <td>True</td>\n",
       "      <td>200</td>\n",
       "      <td>2147</td>\n",
       "      <td>23</td>\n",
       "      <td>51</td>\n",
       "      <td>All Levels</td>\n",
       "      <td>1.5</td>\n",
       "      <td>2017-01-18T20:58:58Z</td>\n",
       "      <td>Business Finance</td>\n",
       "    </tr>\n",
       "    <tr>\n",
       "      <th>1</th>\n",
       "      <td>Complete GST Course &amp; Certification - Grow You...</td>\n",
       "      <td>True</td>\n",
       "      <td>75</td>\n",
       "      <td>2792</td>\n",
       "      <td>923</td>\n",
       "      <td>274</td>\n",
       "      <td>All Levels</td>\n",
       "      <td>39.0</td>\n",
       "      <td>2017-03-09T16:34:20Z</td>\n",
       "      <td>Business Finance</td>\n",
       "    </tr>\n",
       "    <tr>\n",
       "      <th>2</th>\n",
       "      <td>Financial Modeling for Business Analysts and C...</td>\n",
       "      <td>True</td>\n",
       "      <td>45</td>\n",
       "      <td>2174</td>\n",
       "      <td>74</td>\n",
       "      <td>51</td>\n",
       "      <td>Intermediate Level</td>\n",
       "      <td>2.5</td>\n",
       "      <td>2016-12-19T19:26:30Z</td>\n",
       "      <td>Business Finance</td>\n",
       "    </tr>\n",
       "    <tr>\n",
       "      <th>3</th>\n",
       "      <td>Beginner to Pro - Financial Analysis in Excel ...</td>\n",
       "      <td>True</td>\n",
       "      <td>95</td>\n",
       "      <td>2451</td>\n",
       "      <td>11</td>\n",
       "      <td>36</td>\n",
       "      <td>All Levels</td>\n",
       "      <td>3.0</td>\n",
       "      <td>2017-05-30T20:07:24Z</td>\n",
       "      <td>Business Finance</td>\n",
       "    </tr>\n",
       "    <tr>\n",
       "      <th>4</th>\n",
       "      <td>How To Maximize Your Profits Trading Options</td>\n",
       "      <td>True</td>\n",
       "      <td>200</td>\n",
       "      <td>1276</td>\n",
       "      <td>45</td>\n",
       "      <td>26</td>\n",
       "      <td>Intermediate Level</td>\n",
       "      <td>2.0</td>\n",
       "      <td>2016-12-13T14:57:18Z</td>\n",
       "      <td>Business Finance</td>\n",
       "    </tr>\n",
       "  </tbody>\n",
       "</table>\n",
       "</div>"
      ],
      "text/plain": [
       "                                        course_title  is_paid  price  \\\n",
       "0                 Ultimate Investment Banking Course     True    200   \n",
       "1  Complete GST Course & Certification - Grow You...     True     75   \n",
       "2  Financial Modeling for Business Analysts and C...     True     45   \n",
       "3  Beginner to Pro - Financial Analysis in Excel ...     True     95   \n",
       "4       How To Maximize Your Profits Trading Options     True    200   \n",
       "\n",
       "   num_subscribers  num_reviews  num_lectures               level  \\\n",
       "0             2147           23            51          All Levels   \n",
       "1             2792          923           274          All Levels   \n",
       "2             2174           74            51  Intermediate Level   \n",
       "3             2451           11            36          All Levels   \n",
       "4             1276           45            26  Intermediate Level   \n",
       "\n",
       "   content_duration   published_timestamp           subject  \n",
       "0               1.5  2017-01-18T20:58:58Z  Business Finance  \n",
       "1              39.0  2017-03-09T16:34:20Z  Business Finance  \n",
       "2               2.5  2016-12-19T19:26:30Z  Business Finance  \n",
       "3               3.0  2017-05-30T20:07:24Z  Business Finance  \n",
       "4               2.0  2016-12-13T14:57:18Z  Business Finance  "
      ]
     },
     "execution_count": 6,
     "metadata": {},
     "output_type": "execute_result"
    }
   ],
   "source": [
    "udemy_courses.drop(['course_id','url'], axis=1, inplace=True)\n",
    "udemy_courses.head()"
   ]
  },
  {
   "attachments": {},
   "cell_type": "markdown",
   "metadata": {},
   "source": [
    "Se cambia el tipo de dato de la columna 'published_timestamp' para que sea de tipo datetime."
   ]
  },
  {
   "cell_type": "code",
   "execution_count": 7,
   "metadata": {},
   "outputs": [
    {
     "data": {
      "text/html": [
       "<div>\n",
       "<style scoped>\n",
       "    .dataframe tbody tr th:only-of-type {\n",
       "        vertical-align: middle;\n",
       "    }\n",
       "\n",
       "    .dataframe tbody tr th {\n",
       "        vertical-align: top;\n",
       "    }\n",
       "\n",
       "    .dataframe thead th {\n",
       "        text-align: right;\n",
       "    }\n",
       "</style>\n",
       "<table border=\"1\" class=\"dataframe\">\n",
       "  <thead>\n",
       "    <tr style=\"text-align: right;\">\n",
       "      <th></th>\n",
       "      <th>course_title</th>\n",
       "      <th>is_paid</th>\n",
       "      <th>price</th>\n",
       "      <th>num_subscribers</th>\n",
       "      <th>num_reviews</th>\n",
       "      <th>num_lectures</th>\n",
       "      <th>level</th>\n",
       "      <th>content_duration</th>\n",
       "      <th>published_timestamp</th>\n",
       "      <th>subject</th>\n",
       "    </tr>\n",
       "  </thead>\n",
       "  <tbody>\n",
       "    <tr>\n",
       "      <th>0</th>\n",
       "      <td>Ultimate Investment Banking Course</td>\n",
       "      <td>True</td>\n",
       "      <td>200</td>\n",
       "      <td>2147</td>\n",
       "      <td>23</td>\n",
       "      <td>51</td>\n",
       "      <td>All Levels</td>\n",
       "      <td>1.5</td>\n",
       "      <td>2017-01-18 20:58:58+00:00</td>\n",
       "      <td>Business Finance</td>\n",
       "    </tr>\n",
       "    <tr>\n",
       "      <th>1</th>\n",
       "      <td>Complete GST Course &amp; Certification - Grow You...</td>\n",
       "      <td>True</td>\n",
       "      <td>75</td>\n",
       "      <td>2792</td>\n",
       "      <td>923</td>\n",
       "      <td>274</td>\n",
       "      <td>All Levels</td>\n",
       "      <td>39.0</td>\n",
       "      <td>2017-03-09 16:34:20+00:00</td>\n",
       "      <td>Business Finance</td>\n",
       "    </tr>\n",
       "    <tr>\n",
       "      <th>2</th>\n",
       "      <td>Financial Modeling for Business Analysts and C...</td>\n",
       "      <td>True</td>\n",
       "      <td>45</td>\n",
       "      <td>2174</td>\n",
       "      <td>74</td>\n",
       "      <td>51</td>\n",
       "      <td>Intermediate Level</td>\n",
       "      <td>2.5</td>\n",
       "      <td>2016-12-19 19:26:30+00:00</td>\n",
       "      <td>Business Finance</td>\n",
       "    </tr>\n",
       "    <tr>\n",
       "      <th>3</th>\n",
       "      <td>Beginner to Pro - Financial Analysis in Excel ...</td>\n",
       "      <td>True</td>\n",
       "      <td>95</td>\n",
       "      <td>2451</td>\n",
       "      <td>11</td>\n",
       "      <td>36</td>\n",
       "      <td>All Levels</td>\n",
       "      <td>3.0</td>\n",
       "      <td>2017-05-30 20:07:24+00:00</td>\n",
       "      <td>Business Finance</td>\n",
       "    </tr>\n",
       "    <tr>\n",
       "      <th>4</th>\n",
       "      <td>How To Maximize Your Profits Trading Options</td>\n",
       "      <td>True</td>\n",
       "      <td>200</td>\n",
       "      <td>1276</td>\n",
       "      <td>45</td>\n",
       "      <td>26</td>\n",
       "      <td>Intermediate Level</td>\n",
       "      <td>2.0</td>\n",
       "      <td>2016-12-13 14:57:18+00:00</td>\n",
       "      <td>Business Finance</td>\n",
       "    </tr>\n",
       "  </tbody>\n",
       "</table>\n",
       "</div>"
      ],
      "text/plain": [
       "                                        course_title  is_paid  price  \\\n",
       "0                 Ultimate Investment Banking Course     True    200   \n",
       "1  Complete GST Course & Certification - Grow You...     True     75   \n",
       "2  Financial Modeling for Business Analysts and C...     True     45   \n",
       "3  Beginner to Pro - Financial Analysis in Excel ...     True     95   \n",
       "4       How To Maximize Your Profits Trading Options     True    200   \n",
       "\n",
       "   num_subscribers  num_reviews  num_lectures               level  \\\n",
       "0             2147           23            51          All Levels   \n",
       "1             2792          923           274          All Levels   \n",
       "2             2174           74            51  Intermediate Level   \n",
       "3             2451           11            36          All Levels   \n",
       "4             1276           45            26  Intermediate Level   \n",
       "\n",
       "   content_duration       published_timestamp           subject  \n",
       "0               1.5 2017-01-18 20:58:58+00:00  Business Finance  \n",
       "1              39.0 2017-03-09 16:34:20+00:00  Business Finance  \n",
       "2               2.5 2016-12-19 19:26:30+00:00  Business Finance  \n",
       "3               3.0 2017-05-30 20:07:24+00:00  Business Finance  \n",
       "4               2.0 2016-12-13 14:57:18+00:00  Business Finance  "
      ]
     },
     "execution_count": 7,
     "metadata": {},
     "output_type": "execute_result"
    }
   ],
   "source": [
    "udemy_courses['published_timestamp'] = pd.to_datetime(udemy_courses['published_timestamp'], infer_datetime_format=True)\n",
    "udemy_courses.head()"
   ]
  },
  {
   "cell_type": "code",
   "execution_count": 8,
   "metadata": {},
   "outputs": [
    {
     "name": "stdout",
     "output_type": "stream",
     "text": [
      "<class 'pandas.core.frame.DataFrame'>\n",
      "Int64Index: 3672 entries, 0 to 3677\n",
      "Data columns (total 10 columns):\n",
      " #   Column               Non-Null Count  Dtype              \n",
      "---  ------               --------------  -----              \n",
      " 0   course_title         3672 non-null   object             \n",
      " 1   is_paid              3672 non-null   bool               \n",
      " 2   price                3672 non-null   int64              \n",
      " 3   num_subscribers      3672 non-null   int64              \n",
      " 4   num_reviews          3672 non-null   int64              \n",
      " 5   num_lectures         3672 non-null   int64              \n",
      " 6   level                3672 non-null   object             \n",
      " 7   content_duration     3672 non-null   float64            \n",
      " 8   published_timestamp  3672 non-null   datetime64[ns, UTC]\n",
      " 9   subject              3672 non-null   object             \n",
      "dtypes: bool(1), datetime64[ns, UTC](1), float64(1), int64(4), object(3)\n",
      "memory usage: 290.5+ KB\n"
     ]
    }
   ],
   "source": [
    "udemy_courses.info()"
   ]
  },
  {
   "attachments": {},
   "cell_type": "markdown",
   "metadata": {},
   "source": [
    "Se hace la detección y adjudicación del idioma, haciendo verificación manual de los idiomas con menor cuenta."
   ]
  },
  {
   "cell_type": "code",
   "execution_count": 30,
   "metadata": {},
   "outputs": [
    {
     "data": {
      "text/html": [
       "<div>\n",
       "<style scoped>\n",
       "    .dataframe tbody tr th:only-of-type {\n",
       "        vertical-align: middle;\n",
       "    }\n",
       "\n",
       "    .dataframe tbody tr th {\n",
       "        vertical-align: top;\n",
       "    }\n",
       "\n",
       "    .dataframe thead th {\n",
       "        text-align: right;\n",
       "    }\n",
       "</style>\n",
       "<table border=\"1\" class=\"dataframe\">\n",
       "  <thead>\n",
       "    <tr style=\"text-align: right;\">\n",
       "      <th></th>\n",
       "      <th>course_title</th>\n",
       "      <th>is_paid</th>\n",
       "      <th>price</th>\n",
       "      <th>num_subscribers</th>\n",
       "      <th>num_reviews</th>\n",
       "      <th>num_lectures</th>\n",
       "      <th>level</th>\n",
       "      <th>content_duration</th>\n",
       "      <th>published_timestamp</th>\n",
       "      <th>subject</th>\n",
       "      <th>language</th>\n",
       "    </tr>\n",
       "  </thead>\n",
       "  <tbody>\n",
       "    <tr>\n",
       "      <th>0</th>\n",
       "      <td>Ultimate Investment Banking Course</td>\n",
       "      <td>True</td>\n",
       "      <td>200</td>\n",
       "      <td>2147</td>\n",
       "      <td>23</td>\n",
       "      <td>51</td>\n",
       "      <td>All Levels</td>\n",
       "      <td>1.5</td>\n",
       "      <td>2017-01-18 20:58:58+00:00</td>\n",
       "      <td>Business Finance</td>\n",
       "      <td>en</td>\n",
       "    </tr>\n",
       "    <tr>\n",
       "      <th>1</th>\n",
       "      <td>Complete GST Course &amp; Certification - Grow You...</td>\n",
       "      <td>True</td>\n",
       "      <td>75</td>\n",
       "      <td>2792</td>\n",
       "      <td>923</td>\n",
       "      <td>274</td>\n",
       "      <td>All Levels</td>\n",
       "      <td>39.0</td>\n",
       "      <td>2017-03-09 16:34:20+00:00</td>\n",
       "      <td>Business Finance</td>\n",
       "      <td>en</td>\n",
       "    </tr>\n",
       "    <tr>\n",
       "      <th>2</th>\n",
       "      <td>Financial Modeling for Business Analysts and C...</td>\n",
       "      <td>True</td>\n",
       "      <td>45</td>\n",
       "      <td>2174</td>\n",
       "      <td>74</td>\n",
       "      <td>51</td>\n",
       "      <td>Intermediate Level</td>\n",
       "      <td>2.5</td>\n",
       "      <td>2016-12-19 19:26:30+00:00</td>\n",
       "      <td>Business Finance</td>\n",
       "      <td>en</td>\n",
       "    </tr>\n",
       "    <tr>\n",
       "      <th>3</th>\n",
       "      <td>Beginner to Pro - Financial Analysis in Excel ...</td>\n",
       "      <td>True</td>\n",
       "      <td>95</td>\n",
       "      <td>2451</td>\n",
       "      <td>11</td>\n",
       "      <td>36</td>\n",
       "      <td>All Levels</td>\n",
       "      <td>3.0</td>\n",
       "      <td>2017-05-30 20:07:24+00:00</td>\n",
       "      <td>Business Finance</td>\n",
       "      <td>en</td>\n",
       "    </tr>\n",
       "    <tr>\n",
       "      <th>4</th>\n",
       "      <td>How To Maximize Your Profits Trading Options</td>\n",
       "      <td>True</td>\n",
       "      <td>200</td>\n",
       "      <td>1276</td>\n",
       "      <td>45</td>\n",
       "      <td>26</td>\n",
       "      <td>Intermediate Level</td>\n",
       "      <td>2.0</td>\n",
       "      <td>2016-12-13 14:57:18+00:00</td>\n",
       "      <td>Business Finance</td>\n",
       "      <td>en</td>\n",
       "    </tr>\n",
       "  </tbody>\n",
       "</table>\n",
       "</div>"
      ],
      "text/plain": [
       "                                        course_title  is_paid  price  \\\n",
       "0                 Ultimate Investment Banking Course     True    200   \n",
       "1  Complete GST Course & Certification - Grow You...     True     75   \n",
       "2  Financial Modeling for Business Analysts and C...     True     45   \n",
       "3  Beginner to Pro - Financial Analysis in Excel ...     True     95   \n",
       "4       How To Maximize Your Profits Trading Options     True    200   \n",
       "\n",
       "   num_subscribers  num_reviews  num_lectures               level  \\\n",
       "0             2147           23            51          All Levels   \n",
       "1             2792          923           274          All Levels   \n",
       "2             2174           74            51  Intermediate Level   \n",
       "3             2451           11            36          All Levels   \n",
       "4             1276           45            26  Intermediate Level   \n",
       "\n",
       "   content_duration       published_timestamp           subject language  \n",
       "0               1.5 2017-01-18 20:58:58+00:00  Business Finance       en  \n",
       "1              39.0 2017-03-09 16:34:20+00:00  Business Finance       en  \n",
       "2               2.5 2016-12-19 19:26:30+00:00  Business Finance       en  \n",
       "3               3.0 2017-05-30 20:07:24+00:00  Business Finance       en  \n",
       "4               2.0 2016-12-13 14:57:18+00:00  Business Finance       en  "
      ]
     },
     "execution_count": 30,
     "metadata": {},
     "output_type": "execute_result"
    }
   ],
   "source": [
    "udemy_courses['language'] = udemy_courses['course_title'].apply(detect)\n",
    "udemy_courses.head()"
   ]
  },
  {
   "cell_type": "code",
   "execution_count": 31,
   "metadata": {},
   "outputs": [
    {
     "data": {
      "text/plain": [
       "en       3040\n",
       "es        141\n",
       "de         89\n",
       "pt         65\n",
       "ca         57\n",
       "fr         47\n",
       "no         45\n",
       "it         42\n",
       "ja         30\n",
       "tl         21\n",
       "nl         15\n",
       "ro         13\n",
       "da         10\n",
       "af         10\n",
       "ar          9\n",
       "sv          7\n",
       "et          4\n",
       "id          4\n",
       "tr          4\n",
       "zh-cn       4\n",
       "vi          3\n",
       "ru          3\n",
       "th          2\n",
       "hr          2\n",
       "pl          2\n",
       "ko          1\n",
       "so          1\n",
       "sw          1\n",
       "Name: language, dtype: int64"
      ]
     },
     "execution_count": 31,
     "metadata": {},
     "output_type": "execute_result"
    }
   ],
   "source": [
    "udemy_courses['language'].value_counts()"
   ]
  },
  {
   "cell_type": "code",
   "execution_count": 88,
   "metadata": {},
   "outputs": [
    {
     "data": {
      "text/html": [
       "<div>\n",
       "<style scoped>\n",
       "    .dataframe tbody tr th:only-of-type {\n",
       "        vertical-align: middle;\n",
       "    }\n",
       "\n",
       "    .dataframe tbody tr th {\n",
       "        vertical-align: top;\n",
       "    }\n",
       "\n",
       "    .dataframe thead th {\n",
       "        text-align: right;\n",
       "    }\n",
       "</style>\n",
       "<table border=\"1\" class=\"dataframe\">\n",
       "  <thead>\n",
       "    <tr style=\"text-align: right;\">\n",
       "      <th></th>\n",
       "      <th>course_title</th>\n",
       "      <th>is_paid</th>\n",
       "      <th>price</th>\n",
       "      <th>num_subscribers</th>\n",
       "      <th>num_reviews</th>\n",
       "      <th>num_lectures</th>\n",
       "      <th>level</th>\n",
       "      <th>content_duration</th>\n",
       "      <th>published_timestamp</th>\n",
       "      <th>subject</th>\n",
       "      <th>language</th>\n",
       "    </tr>\n",
       "  </thead>\n",
       "  <tbody>\n",
       "    <tr>\n",
       "      <th>1346</th>\n",
       "      <td>캔바(Canva)로 SNS 콘텐츠 만들기</td>\n",
       "      <td>True</td>\n",
       "      <td>30</td>\n",
       "      <td>44</td>\n",
       "      <td>13</td>\n",
       "      <td>19</td>\n",
       "      <td>Beginner Level</td>\n",
       "      <td>2.0</td>\n",
       "      <td>2017-02-06 21:39:19+00:00</td>\n",
       "      <td>Graphic Design</td>\n",
       "      <td>ko</td>\n",
       "    </tr>\n",
       "  </tbody>\n",
       "</table>\n",
       "</div>"
      ],
      "text/plain": [
       "                course_title  is_paid  price  num_subscribers  num_reviews  \\\n",
       "1346  캔바(Canva)로 SNS 콘텐츠 만들기     True     30               44           13   \n",
       "\n",
       "      num_lectures           level  content_duration  \\\n",
       "1346            19  Beginner Level               2.0   \n",
       "\n",
       "           published_timestamp         subject language  \n",
       "1346 2017-02-06 21:39:19+00:00  Graphic Design       ko  "
      ]
     },
     "execution_count": 88,
     "metadata": {},
     "output_type": "execute_result"
    }
   ],
   "source": [
    "udemy_courses[udemy_courses['language'] == 'ko']"
   ]
  },
  {
   "cell_type": "code",
   "execution_count": 85,
   "metadata": {},
   "outputs": [],
   "source": [
    "udemy_courses['language'].replace(to_replace='hr',value='es',inplace=True)"
   ]
  },
  {
   "cell_type": "code",
   "execution_count": 89,
   "metadata": {},
   "outputs": [
    {
     "data": {
      "text/plain": [
       "['en',\n",
       " 'it',\n",
       " 'es',\n",
       " 'ar',\n",
       " 'ja',\n",
       " 'pt',\n",
       " 'th',\n",
       " 'fr',\n",
       " 'pl',\n",
       " 'ru',\n",
       " 'zh-cn',\n",
       " 'tr',\n",
       " 'ko']"
      ]
     },
     "execution_count": 89,
     "metadata": {},
     "output_type": "execute_result"
    }
   ],
   "source": [
    "codigo_idioma = list(udemy_courses['language'].unique())\n",
    "codigo_idioma"
   ]
  },
  {
   "cell_type": "code",
   "execution_count": 90,
   "metadata": {},
   "outputs": [],
   "source": [
    "idioma_cambio = ['Inglés', 'Italiano', 'Español', 'Árabe', 'Japonés', 'Portugués', 'Thai', 'Francés', 'Polaco', 'Ruso', \n",
    "                'Chino', 'Turco', 'Coreano']"
   ]
  },
  {
   "cell_type": "code",
   "execution_count": 91,
   "metadata": {},
   "outputs": [],
   "source": [
    "udemy_courses['language'].replace(to_replace=codigo_idioma, value=idioma_cambio, inplace=True)"
   ]
  },
  {
   "cell_type": "code",
   "execution_count": 93,
   "metadata": {},
   "outputs": [],
   "source": [
    "# Se exporta el csv par su utilización en Power BI\n",
    "udemy_courses.to_csv('udemy_courses_transformado.csv')"
   ]
  },
  {
   "attachments": {},
   "cell_type": "markdown",
   "metadata": {},
   "source": [
    "Finalmente se obtuvieron algunas visualizaciones para el ánalisis de datos."
   ]
  },
  {
   "cell_type": "code",
   "execution_count": 342,
   "metadata": {},
   "outputs": [
    {
     "data": {
      "text/plain": [
       "True     3362\n",
       "False     310\n",
       "Name: is_paid, dtype: int64"
      ]
     },
     "execution_count": 342,
     "metadata": {},
     "output_type": "execute_result"
    }
   ],
   "source": [
    "# La mayoría de los cursos en Udemy son de pago\n",
    "udemy_courses['is_paid'].value_counts()"
   ]
  },
  {
   "cell_type": "code",
   "execution_count": 9,
   "metadata": {},
   "outputs": [
    {
     "data": {
      "text/plain": [
       "<AxesSubplot: xlabel='num_subscribers'>"
      ]
     },
     "execution_count": 9,
     "metadata": {},
     "output_type": "execute_result"
    },
    {
     "data": {
      "image/png": "[encoded data removed]",
      "text/plain": [
       "<Figure size 640x480 with 1 Axes>"
      ]
     },
     "metadata": {},
     "output_type": "display_data"
    }
   ],
   "source": [
    "sns.boxplot(data=udemy_courses, x='num_subscribers')"
   ]
  },
  {
   "cell_type": "code",
   "execution_count": 10,
   "metadata": {},
   "outputs": [
    {
     "data": {
      "text/plain": [
       "count      3672.000000\n",
       "mean       3190.586874\n",
       "std        9488.105448\n",
       "min           0.000000\n",
       "25%         111.750000\n",
       "50%         912.000000\n",
       "75%        2548.750000\n",
       "max      268923.000000\n",
       "Name: num_subscribers, dtype: float64"
      ]
     },
     "execution_count": 10,
     "metadata": {},
     "output_type": "execute_result"
    }
   ],
   "source": [
    "# El 75% de los cursos tiene menos de 2549 suscriptores\n",
    "udemy_courses['num_subscribers'].describe()"
   ]
  },
  {
   "cell_type": "code",
   "execution_count": 18,
   "metadata": {},
   "outputs": [
    {
     "data": {
      "text/plain": [
       "<AxesSubplot: xlabel='num_subscribers', ylabel='Count'>"
      ]
     },
     "execution_count": 18,
     "metadata": {},
     "output_type": "execute_result"
    },
    {
     "data": {
      "image/png": "[encoded data removed]",
      "text/plain": [
       "<Figure size 640x480 with 1 Axes>"
      ]
     },
     "metadata": {},
     "output_type": "display_data"
    }
   ],
   "source": [
    "sns.histplot(data=udemy_courses, x='num_subscribers', bins=50)"
   ]
  },
  {
   "cell_type": "code",
   "execution_count": 107,
   "metadata": {},
   "outputs": [
    {
     "data": {
      "text/html": [
       "<div>\n",
       "<style scoped>\n",
       "    .dataframe tbody tr th:only-of-type {\n",
       "        vertical-align: middle;\n",
       "    }\n",
       "\n",
       "    .dataframe tbody tr th {\n",
       "        vertical-align: top;\n",
       "    }\n",
       "\n",
       "    .dataframe thead th {\n",
       "        text-align: right;\n",
       "    }\n",
       "</style>\n",
       "<table border=\"1\" class=\"dataframe\">\n",
       "  <thead>\n",
       "    <tr style=\"text-align: right;\">\n",
       "      <th></th>\n",
       "      <th>course_title</th>\n",
       "      <th>is_paid</th>\n",
       "      <th>price</th>\n",
       "      <th>num_subscribers</th>\n",
       "      <th>num_reviews</th>\n",
       "      <th>num_lectures</th>\n",
       "      <th>level</th>\n",
       "      <th>content_duration</th>\n",
       "      <th>published_timestamp</th>\n",
       "      <th>subject</th>\n",
       "      <th>language</th>\n",
       "    </tr>\n",
       "  </thead>\n",
       "  <tbody>\n",
       "    <tr>\n",
       "      <th>2827</th>\n",
       "      <td>Learn HTML5 Programming From Scratch</td>\n",
       "      <td>False</td>\n",
       "      <td>0</td>\n",
       "      <td>268923</td>\n",
       "      <td>8629</td>\n",
       "      <td>45</td>\n",
       "      <td>All Levels</td>\n",
       "      <td>10.5</td>\n",
       "      <td>2013-02-14 07:03:41+00:00</td>\n",
       "      <td>Web Development</td>\n",
       "      <td>Inglés</td>\n",
       "    </tr>\n",
       "    <tr>\n",
       "      <th>3032</th>\n",
       "      <td>Coding for Entrepreneurs Basic</td>\n",
       "      <td>False</td>\n",
       "      <td>0</td>\n",
       "      <td>161029</td>\n",
       "      <td>279</td>\n",
       "      <td>27</td>\n",
       "      <td>Beginner Level</td>\n",
       "      <td>3.5</td>\n",
       "      <td>2013-06-09 15:51:55+00:00</td>\n",
       "      <td>Web Development</td>\n",
       "      <td>Inglés</td>\n",
       "    </tr>\n",
       "    <tr>\n",
       "      <th>3230</th>\n",
       "      <td>The Web Developer Bootcamp</td>\n",
       "      <td>True</td>\n",
       "      <td>200</td>\n",
       "      <td>121584</td>\n",
       "      <td>27445</td>\n",
       "      <td>342</td>\n",
       "      <td>All Levels</td>\n",
       "      <td>43.0</td>\n",
       "      <td>2015-11-02 21:13:27+00:00</td>\n",
       "      <td>Web Development</td>\n",
       "      <td>Inglés</td>\n",
       "    </tr>\n",
       "    <tr>\n",
       "      <th>2783</th>\n",
       "      <td>Build Your First Website in 1 Week with HTML5 ...</td>\n",
       "      <td>False</td>\n",
       "      <td>0</td>\n",
       "      <td>120291</td>\n",
       "      <td>5924</td>\n",
       "      <td>30</td>\n",
       "      <td>Beginner Level</td>\n",
       "      <td>3.0</td>\n",
       "      <td>2014-04-08 16:21:30+00:00</td>\n",
       "      <td>Web Development</td>\n",
       "      <td>Inglés</td>\n",
       "    </tr>\n",
       "    <tr>\n",
       "      <th>3232</th>\n",
       "      <td>The Complete Web Developer Course 2.0</td>\n",
       "      <td>True</td>\n",
       "      <td>200</td>\n",
       "      <td>114512</td>\n",
       "      <td>22412</td>\n",
       "      <td>304</td>\n",
       "      <td>All Levels</td>\n",
       "      <td>30.5</td>\n",
       "      <td>2016-03-08 22:28:36+00:00</td>\n",
       "      <td>Web Development</td>\n",
       "      <td>Inglés</td>\n",
       "    </tr>\n",
       "  </tbody>\n",
       "</table>\n",
       "</div>"
      ],
      "text/plain": [
       "                                           course_title  is_paid  price  \\\n",
       "2827               Learn HTML5 Programming From Scratch    False      0   \n",
       "3032                     Coding for Entrepreneurs Basic    False      0   \n",
       "3230                         The Web Developer Bootcamp     True    200   \n",
       "2783  Build Your First Website in 1 Week with HTML5 ...    False      0   \n",
       "3232              The Complete Web Developer Course 2.0     True    200   \n",
       "\n",
       "      num_subscribers  num_reviews  num_lectures           level  \\\n",
       "2827           268923         8629            45      All Levels   \n",
       "3032           161029          279            27  Beginner Level   \n",
       "3230           121584        27445           342      All Levels   \n",
       "2783           120291         5924            30  Beginner Level   \n",
       "3232           114512        22412           304      All Levels   \n",
       "\n",
       "      content_duration       published_timestamp          subject language  \n",
       "2827              10.5 2013-02-14 07:03:41+00:00  Web Development   Inglés  \n",
       "3032               3.5 2013-06-09 15:51:55+00:00  Web Development   Inglés  \n",
       "3230              43.0 2015-11-02 21:13:27+00:00  Web Development   Inglés  \n",
       "2783               3.0 2014-04-08 16:21:30+00:00  Web Development   Inglés  \n",
       "3232              30.5 2016-03-08 22:28:36+00:00  Web Development   Inglés  "
      ]
     },
     "execution_count": 107,
     "metadata": {},
     "output_type": "execute_result"
    }
   ],
   "source": [
    "udemy_courses.sort_values(by='num_subscribers', ascending=False).head()"
   ]
  },
  {
   "cell_type": "code",
   "execution_count": 345,
   "metadata": {},
   "outputs": [
    {
     "data": {
      "text/plain": [
       "All Levels            1925\n",
       "Beginner Level        1268\n",
       "Intermediate Level     421\n",
       "Expert Level            58\n",
       "Name: level, dtype: int64"
      ]
     },
     "execution_count": 345,
     "metadata": {},
     "output_type": "execute_result"
    }
   ],
   "source": [
    "udemy_courses['level'].value_counts()"
   ]
  },
  {
   "cell_type": "code",
   "execution_count": 351,
   "metadata": {},
   "outputs": [
    {
     "data": {
      "text/plain": [
       "<AxesSubplot: >"
      ]
     },
     "execution_count": 351,
     "metadata": {},
     "output_type": "execute_result"
    },
    {
     "data": {
      "image/png": "[encoded data removed]",
      "text/plain": [
       "<Figure size 640x480 with 2 Axes>"
      ]
     },
     "metadata": {},
     "output_type": "display_data"
    }
   ],
   "source": [
    "# Se observa una ligera correlación negativa entre el número de suscriptores y que el curso sea de pago o no.\n",
    "sns.heatmap((udemy_courses.corr(numeric_only=True)), annot=True,cmap='mako')"
   ]
  },
  {
   "cell_type": "code",
   "execution_count": 24,
   "metadata": {},
   "outputs": [
    {
     "data": {
      "text/plain": [
       "<AxesSubplot: xlabel='content_duration'>"
      ]
     },
     "execution_count": 24,
     "metadata": {},
     "output_type": "execute_result"
    },
    {
     "data": {
      "image/png": "[encoded data removed]",
      "text/plain": [
       "<Figure size 640x480 with 1 Axes>"
      ]
     },
     "metadata": {},
     "output_type": "display_data"
    }
   ],
   "source": [
    "sns.boxplot(data=udemy_courses, x='content_duration')"
   ]
  },
  {
   "cell_type": "code",
   "execution_count": 23,
   "metadata": {},
   "outputs": [
    {
     "data": {
      "text/plain": [
       "count    3672.000000\n",
       "mean        4.097603\n",
       "std         6.057830\n",
       "min         0.000000\n",
       "25%         1.000000\n",
       "50%         2.000000\n",
       "75%         4.500000\n",
       "max        78.500000\n",
       "Name: content_duration, dtype: float64"
      ]
     },
     "execution_count": 23,
     "metadata": {},
     "output_type": "execute_result"
    }
   ],
   "source": [
    "udemy_courses['content_duration'].describe()"
   ]
  }
 ],
 "metadata": {
  "kernelspec": {
   "display_name": "Python 3",
   "language": "python",
   "name": "python3"
  },
  "language_info": {
   "codemirror_mode": {
    "name": "ipython",
    "version": 3
   },
   "file_extension": ".py",
   "mimetype": "text/x-python",
   "name": "python",
   "nbconvert_exporter": "python",
   "pygments_lexer": "ipython3",
   "version": "3.11.1"
  },
  "orig_nbformat": 4,
  "vscode": {
   "interpreter": {
    "hash": "2ed8b01cc943fc452f3875585953f694a0a4e4a007a9ce4019ec5b05c1f98e94"
   }
  }
 },
 "nbformat": 4,
 "nbformat_minor": 2
}
